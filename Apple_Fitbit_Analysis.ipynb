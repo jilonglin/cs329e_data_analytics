{
 "cells": [
  {
   "cell_type": "markdown",
   "metadata": {},
   "source": [
    "#### Group Project Members:\n",
    "\n",
    "Laura Dennison, Daniel Zielinski, Jilong/Mark Lin, and Lingyue Lu"
   ]
  },
  {
   "cell_type": "markdown",
   "metadata": {},
   "source": [
    "# Introduction to the Problem"
   ]
  },
  {
   "cell_type": "markdown",
   "metadata": {},
   "source": [
    "We found a dataset off of Harvard's Dataverse called [Replication Data for: Using machine learning methods to predict physical activity types with Apple Watch and Fitbit data using indirect calorimetry as the criterion](https://dataverse.harvard.edu/dataset.xhtml?persistentId=doi:10.7910/DVN/ZS2Z2J). The dataset has 19 attributes and 1 class label, activity. The 19 attributes include raw data, feature engineered columns, and two columns of the row number. The goal of this analysis is to use the provided attributes and be able to predict the activity of a person who is wearing a Fitbit or Apple Watch. These activities are lying, sitting, self paced walking, running 3 METs, running 5 METs, and running 7 METs. The person who uploaded this dataset, Daniel Fuller, has already used this dataset to create a classification model of rotation forest models and determined the highest classification accuracies at 82.6% for Apple Watch and 89.3% for Fitbit. We want to see with the same dataset and some of our own analysis if we can match that classification accuracy or beat the accuracy.\n",
    "\n",
    "Below is all the imports necessary for this project."
   ]
  },
  {
   "cell_type": "code",
   "execution_count": 32,
   "metadata": {},
   "outputs": [],
   "source": [
    "import matplotlib.pyplot as plt\n",
    "import numpy as np\n",
    "import os\n",
    "import pandas as pd\n",
    "import pickle\n",
    "import sklearn as sk\n",
    "import time\n",
    "import warnings\n",
    "import random\n",
    "warnings.simplefilter(\"ignore\")\n",
    "\n",
    "from sklearn.decomposition import PCA\n",
    "from sklearn.ensemble import AdaBoostClassifier, RandomForestClassifier,BaggingClassifier,ExtraTreesClassifier\n",
    "from sklearn.ensemble import StackingClassifier, VotingClassifier\n",
    "from sklearn.metrics import accuracy_score, classification_report, confusion_matrix\n",
    "from sklearn.model_selection import  cross_val_predict, cross_val_score, GridSearchCV, train_test_split\n",
    "from sklearn.naive_bayes import GaussianNB\n",
    "from sklearn.neighbors import KNeighborsClassifier\n",
    "from sklearn.neural_network import MLPClassifier\n",
    "from sklearn.pipeline import Pipeline\n",
    "from sklearn.preprocessing import MinMaxScaler, StandardScaler\n",
    "from sklearn.svm import SVC\n",
    "from sklearn.tree import DecisionTreeClassifier\n",
    "from sklearn.multiclass import OneVsRestClassifier, OneVsOneClassifier\n",
    "\n",
    "\n",
    "# Enable inline mode for matplotlib so that Jupyter displays graphs\n",
    "%matplotlib inline"
   ]
  },
  {
   "cell_type": "markdown",
   "metadata": {},
   "source": [
    "# Pre-Processing"
   ]
  },
  {
   "cell_type": "markdown",
   "metadata": {},
   "source": [
    "In the data pre-processing stage, we will be exploring and cleaning the data before the analysis. This includes data exploration, data cleaning, and feature engineering."
   ]
  },
  {
   "cell_type": "markdown",
   "metadata": {},
   "source": [
    "## 1. Data Exploration\n",
    "\n",
    "This is the step where we will understand our data's noise, outliers, missing data, incorrect data, and redundant data."
   ]
  },
  {
   "cell_type": "markdown",
   "metadata": {},
   "source": [
    "Read in the dataset and display the head to get an understanding of the data that will be worked with."
   ]
  },
  {
   "cell_type": "code",
   "execution_count": 2,
   "metadata": {},
   "outputs": [
    {
     "data": {
      "text/html": [
       "<div>\n",
       "<style scoped>\n",
       "    .dataframe tbody tr th:only-of-type {\n",
       "        vertical-align: middle;\n",
       "    }\n",
       "\n",
       "    .dataframe tbody tr th {\n",
       "        vertical-align: top;\n",
       "    }\n",
       "\n",
       "    .dataframe thead th {\n",
       "        text-align: right;\n",
       "    }\n",
       "</style>\n",
       "<table border=\"1\" class=\"dataframe\">\n",
       "  <thead>\n",
       "    <tr style=\"text-align: right;\">\n",
       "      <th></th>\n",
       "      <th>Unnamed: 0</th>\n",
       "      <th>X1</th>\n",
       "      <th>age</th>\n",
       "      <th>gender</th>\n",
       "      <th>height</th>\n",
       "      <th>weight</th>\n",
       "      <th>steps</th>\n",
       "      <th>heart_rate</th>\n",
       "      <th>calories</th>\n",
       "      <th>distance</th>\n",
       "      <th>entropy_heart</th>\n",
       "      <th>entropy_steps</th>\n",
       "      <th>resting_heart</th>\n",
       "      <th>corr_heart_steps</th>\n",
       "      <th>norm_heart</th>\n",
       "      <th>intensity_karvonen</th>\n",
       "      <th>sd_norm_heart</th>\n",
       "      <th>steps_times_distance</th>\n",
       "      <th>device</th>\n",
       "      <th>activity</th>\n",
       "    </tr>\n",
       "  </thead>\n",
       "  <tbody>\n",
       "    <tr>\n",
       "      <th>0</th>\n",
       "      <td>1</td>\n",
       "      <td>1</td>\n",
       "      <td>20</td>\n",
       "      <td>1</td>\n",
       "      <td>168.0</td>\n",
       "      <td>65.4</td>\n",
       "      <td>10.771429</td>\n",
       "      <td>78.531302</td>\n",
       "      <td>0.344533</td>\n",
       "      <td>0.008327</td>\n",
       "      <td>6.221612</td>\n",
       "      <td>6.116349</td>\n",
       "      <td>59.0</td>\n",
       "      <td>1.000000</td>\n",
       "      <td>19.531302</td>\n",
       "      <td>0.138520</td>\n",
       "      <td>1.000000</td>\n",
       "      <td>0.089692</td>\n",
       "      <td>apple watch</td>\n",
       "      <td>Lying</td>\n",
       "    </tr>\n",
       "    <tr>\n",
       "      <th>1</th>\n",
       "      <td>2</td>\n",
       "      <td>2</td>\n",
       "      <td>20</td>\n",
       "      <td>1</td>\n",
       "      <td>168.0</td>\n",
       "      <td>65.4</td>\n",
       "      <td>11.475325</td>\n",
       "      <td>78.453390</td>\n",
       "      <td>3.287625</td>\n",
       "      <td>0.008896</td>\n",
       "      <td>6.221612</td>\n",
       "      <td>6.116349</td>\n",
       "      <td>59.0</td>\n",
       "      <td>1.000000</td>\n",
       "      <td>19.453390</td>\n",
       "      <td>0.137967</td>\n",
       "      <td>1.000000</td>\n",
       "      <td>0.102088</td>\n",
       "      <td>apple watch</td>\n",
       "      <td>Lying</td>\n",
       "    </tr>\n",
       "    <tr>\n",
       "      <th>2</th>\n",
       "      <td>3</td>\n",
       "      <td>3</td>\n",
       "      <td>20</td>\n",
       "      <td>1</td>\n",
       "      <td>168.0</td>\n",
       "      <td>65.4</td>\n",
       "      <td>12.179221</td>\n",
       "      <td>78.540825</td>\n",
       "      <td>9.484000</td>\n",
       "      <td>0.009466</td>\n",
       "      <td>6.221612</td>\n",
       "      <td>6.116349</td>\n",
       "      <td>59.0</td>\n",
       "      <td>1.000000</td>\n",
       "      <td>19.540825</td>\n",
       "      <td>0.138587</td>\n",
       "      <td>1.000000</td>\n",
       "      <td>0.115287</td>\n",
       "      <td>apple watch</td>\n",
       "      <td>Lying</td>\n",
       "    </tr>\n",
       "    <tr>\n",
       "      <th>3</th>\n",
       "      <td>4</td>\n",
       "      <td>4</td>\n",
       "      <td>20</td>\n",
       "      <td>1</td>\n",
       "      <td>168.0</td>\n",
       "      <td>65.4</td>\n",
       "      <td>12.883117</td>\n",
       "      <td>78.628260</td>\n",
       "      <td>10.154556</td>\n",
       "      <td>0.010035</td>\n",
       "      <td>6.221612</td>\n",
       "      <td>6.116349</td>\n",
       "      <td>59.0</td>\n",
       "      <td>1.000000</td>\n",
       "      <td>19.628260</td>\n",
       "      <td>0.139208</td>\n",
       "      <td>1.000000</td>\n",
       "      <td>0.129286</td>\n",
       "      <td>apple watch</td>\n",
       "      <td>Lying</td>\n",
       "    </tr>\n",
       "    <tr>\n",
       "      <th>4</th>\n",
       "      <td>5</td>\n",
       "      <td>5</td>\n",
       "      <td>20</td>\n",
       "      <td>1</td>\n",
       "      <td>168.0</td>\n",
       "      <td>65.4</td>\n",
       "      <td>13.587013</td>\n",
       "      <td>78.715695</td>\n",
       "      <td>10.825111</td>\n",
       "      <td>0.010605</td>\n",
       "      <td>6.221612</td>\n",
       "      <td>6.116349</td>\n",
       "      <td>59.0</td>\n",
       "      <td>0.982816</td>\n",
       "      <td>19.715695</td>\n",
       "      <td>0.139828</td>\n",
       "      <td>0.241567</td>\n",
       "      <td>0.144088</td>\n",
       "      <td>apple watch</td>\n",
       "      <td>Lying</td>\n",
       "    </tr>\n",
       "  </tbody>\n",
       "</table>\n",
       "</div>"
      ],
      "text/plain": [
       "   Unnamed: 0  X1  age  gender  height  weight      steps  heart_rate  \\\n",
       "0           1   1   20       1   168.0    65.4  10.771429   78.531302   \n",
       "1           2   2   20       1   168.0    65.4  11.475325   78.453390   \n",
       "2           3   3   20       1   168.0    65.4  12.179221   78.540825   \n",
       "3           4   4   20       1   168.0    65.4  12.883117   78.628260   \n",
       "4           5   5   20       1   168.0    65.4  13.587013   78.715695   \n",
       "\n",
       "    calories  distance  entropy_heart  entropy_steps  resting_heart  \\\n",
       "0   0.344533  0.008327       6.221612       6.116349           59.0   \n",
       "1   3.287625  0.008896       6.221612       6.116349           59.0   \n",
       "2   9.484000  0.009466       6.221612       6.116349           59.0   \n",
       "3  10.154556  0.010035       6.221612       6.116349           59.0   \n",
       "4  10.825111  0.010605       6.221612       6.116349           59.0   \n",
       "\n",
       "   corr_heart_steps  norm_heart  intensity_karvonen  sd_norm_heart  \\\n",
       "0          1.000000   19.531302            0.138520       1.000000   \n",
       "1          1.000000   19.453390            0.137967       1.000000   \n",
       "2          1.000000   19.540825            0.138587       1.000000   \n",
       "3          1.000000   19.628260            0.139208       1.000000   \n",
       "4          0.982816   19.715695            0.139828       0.241567   \n",
       "\n",
       "   steps_times_distance       device activity  \n",
       "0              0.089692  apple watch    Lying  \n",
       "1              0.102088  apple watch    Lying  \n",
       "2              0.115287  apple watch    Lying  \n",
       "3              0.129286  apple watch    Lying  \n",
       "4              0.144088  apple watch    Lying  "
      ]
     },
     "execution_count": 2,
     "metadata": {},
     "output_type": "execute_result"
    }
   ],
   "source": [
    "data = pd.read_csv(\"aw_fb_data.csv\")\n",
    "data.head()"
   ]
  },
  {
   "cell_type": "markdown",
   "metadata": {},
   "source": [
    "Here we will display the missing values for all columns."
   ]
  },
  {
   "cell_type": "code",
   "execution_count": 3,
   "metadata": {},
   "outputs": [
    {
     "name": "stdout",
     "output_type": "stream",
     "text": [
      "\n",
      "Total num missing values: Unnamed: 0              0\n",
      "X1                      0\n",
      "age                     0\n",
      "gender                  0\n",
      "height                  0\n",
      "weight                  0\n",
      "steps                   0\n",
      "heart_rate              0\n",
      "calories                0\n",
      "distance                0\n",
      "entropy_heart           0\n",
      "entropy_steps           0\n",
      "resting_heart           0\n",
      "corr_heart_steps        0\n",
      "norm_heart              0\n",
      "intensity_karvonen      0\n",
      "sd_norm_heart           0\n",
      "steps_times_distance    0\n",
      "device                  0\n",
      "activity                0\n",
      "dtype: int64\n"
     ]
    }
   ],
   "source": [
    "print(\"\\nTotal num missing values:\", data.isnull().sum())"
   ]
  },
  {
   "cell_type": "markdown",
   "metadata": {},
   "source": [
    "## Univariate Analysis\n",
    "Here we will analyze all the columns individually to determine any noise or outliers that could possibly by incorrect or duplicate data.\n",
    "\n",
    "We will also analyze the label column, activity, to determine if the class labels are evenly distributed or not."
   ]
  },
  {
   "cell_type": "code",
   "execution_count": 4,
   "metadata": {},
   "outputs": [
    {
     "data": {
      "text/html": [
       "<div>\n",
       "<style scoped>\n",
       "    .dataframe tbody tr th:only-of-type {\n",
       "        vertical-align: middle;\n",
       "    }\n",
       "\n",
       "    .dataframe tbody tr th {\n",
       "        vertical-align: top;\n",
       "    }\n",
       "\n",
       "    .dataframe thead th {\n",
       "        text-align: right;\n",
       "    }\n",
       "</style>\n",
       "<table border=\"1\" class=\"dataframe\">\n",
       "  <thead>\n",
       "    <tr style=\"text-align: right;\">\n",
       "      <th></th>\n",
       "      <th>Unnamed: 0</th>\n",
       "      <th>X1</th>\n",
       "      <th>age</th>\n",
       "      <th>gender</th>\n",
       "      <th>height</th>\n",
       "      <th>weight</th>\n",
       "      <th>steps</th>\n",
       "      <th>heart_rate</th>\n",
       "      <th>calories</th>\n",
       "      <th>distance</th>\n",
       "      <th>entropy_heart</th>\n",
       "      <th>entropy_steps</th>\n",
       "      <th>resting_heart</th>\n",
       "      <th>corr_heart_steps</th>\n",
       "      <th>norm_heart</th>\n",
       "      <th>intensity_karvonen</th>\n",
       "      <th>sd_norm_heart</th>\n",
       "      <th>steps_times_distance</th>\n",
       "    </tr>\n",
       "  </thead>\n",
       "  <tbody>\n",
       "    <tr>\n",
       "      <th>count</th>\n",
       "      <td>6264.000000</td>\n",
       "      <td>6264.000000</td>\n",
       "      <td>6264.000000</td>\n",
       "      <td>6264.000000</td>\n",
       "      <td>6264.000000</td>\n",
       "      <td>6264.000000</td>\n",
       "      <td>6264.000000</td>\n",
       "      <td>6264.000000</td>\n",
       "      <td>6264.000000</td>\n",
       "      <td>6264.000000</td>\n",
       "      <td>6264.000000</td>\n",
       "      <td>6264.000000</td>\n",
       "      <td>6264.000000</td>\n",
       "      <td>6264.000000</td>\n",
       "      <td>6264.000000</td>\n",
       "      <td>6264.000000</td>\n",
       "      <td>6264.000000</td>\n",
       "      <td>6264.000000</td>\n",
       "    </tr>\n",
       "    <tr>\n",
       "      <th>mean</th>\n",
       "      <td>3132.500000</td>\n",
       "      <td>1771.144317</td>\n",
       "      <td>29.158525</td>\n",
       "      <td>0.476533</td>\n",
       "      <td>169.709052</td>\n",
       "      <td>69.614464</td>\n",
       "      <td>109.562268</td>\n",
       "      <td>86.142331</td>\n",
       "      <td>19.471823</td>\n",
       "      <td>13.832555</td>\n",
       "      <td>6.030314</td>\n",
       "      <td>5.739984</td>\n",
       "      <td>65.869938</td>\n",
       "      <td>0.306447</td>\n",
       "      <td>20.272393</td>\n",
       "      <td>0.155479</td>\n",
       "      <td>8.110854</td>\n",
       "      <td>590.035239</td>\n",
       "    </tr>\n",
       "    <tr>\n",
       "      <th>std</th>\n",
       "      <td>1808.405375</td>\n",
       "      <td>1097.988748</td>\n",
       "      <td>8.908978</td>\n",
       "      <td>0.499489</td>\n",
       "      <td>10.324698</td>\n",
       "      <td>13.451878</td>\n",
       "      <td>222.797908</td>\n",
       "      <td>28.648385</td>\n",
       "      <td>27.309765</td>\n",
       "      <td>45.941437</td>\n",
       "      <td>0.765574</td>\n",
       "      <td>1.256348</td>\n",
       "      <td>21.203017</td>\n",
       "      <td>0.775418</td>\n",
       "      <td>28.388116</td>\n",
       "      <td>0.210927</td>\n",
       "      <td>12.535080</td>\n",
       "      <td>4063.838530</td>\n",
       "    </tr>\n",
       "    <tr>\n",
       "      <th>min</th>\n",
       "      <td>1.000000</td>\n",
       "      <td>1.000000</td>\n",
       "      <td>18.000000</td>\n",
       "      <td>0.000000</td>\n",
       "      <td>143.000000</td>\n",
       "      <td>43.000000</td>\n",
       "      <td>1.000000</td>\n",
       "      <td>2.222222</td>\n",
       "      <td>0.056269</td>\n",
       "      <td>0.000440</td>\n",
       "      <td>0.000000</td>\n",
       "      <td>0.000000</td>\n",
       "      <td>3.000000</td>\n",
       "      <td>-1.000000</td>\n",
       "      <td>-76.000000</td>\n",
       "      <td>-2.714286</td>\n",
       "      <td>0.000000</td>\n",
       "      <td>0.000690</td>\n",
       "    </tr>\n",
       "    <tr>\n",
       "      <th>25%</th>\n",
       "      <td>1566.750000</td>\n",
       "      <td>789.750000</td>\n",
       "      <td>23.000000</td>\n",
       "      <td>0.000000</td>\n",
       "      <td>160.000000</td>\n",
       "      <td>60.000000</td>\n",
       "      <td>5.159534</td>\n",
       "      <td>75.598079</td>\n",
       "      <td>0.735875</td>\n",
       "      <td>0.019135</td>\n",
       "      <td>6.108524</td>\n",
       "      <td>5.909440</td>\n",
       "      <td>58.134333</td>\n",
       "      <td>-0.467303</td>\n",
       "      <td>1.148883</td>\n",
       "      <td>0.009819</td>\n",
       "      <td>0.264722</td>\n",
       "      <td>0.659260</td>\n",
       "    </tr>\n",
       "    <tr>\n",
       "      <th>50%</th>\n",
       "      <td>3132.500000</td>\n",
       "      <td>1720.000000</td>\n",
       "      <td>28.000000</td>\n",
       "      <td>0.000000</td>\n",
       "      <td>168.000000</td>\n",
       "      <td>68.000000</td>\n",
       "      <td>10.092029</td>\n",
       "      <td>77.267680</td>\n",
       "      <td>4.000000</td>\n",
       "      <td>0.181719</td>\n",
       "      <td>6.189825</td>\n",
       "      <td>6.157197</td>\n",
       "      <td>75.000000</td>\n",
       "      <td>0.665829</td>\n",
       "      <td>9.820254</td>\n",
       "      <td>0.079529</td>\n",
       "      <td>2.893503</td>\n",
       "      <td>13.368619</td>\n",
       "    </tr>\n",
       "    <tr>\n",
       "      <th>75%</th>\n",
       "      <td>4698.250000</td>\n",
       "      <td>2759.250000</td>\n",
       "      <td>33.000000</td>\n",
       "      <td>1.000000</td>\n",
       "      <td>180.000000</td>\n",
       "      <td>77.300000</td>\n",
       "      <td>105.847222</td>\n",
       "      <td>95.669118</td>\n",
       "      <td>20.500000</td>\n",
       "      <td>15.697188</td>\n",
       "      <td>6.247928</td>\n",
       "      <td>6.247928</td>\n",
       "      <td>76.138701</td>\n",
       "      <td>1.000000</td>\n",
       "      <td>27.077336</td>\n",
       "      <td>0.211868</td>\n",
       "      <td>9.679672</td>\n",
       "      <td>93.728562</td>\n",
       "    </tr>\n",
       "    <tr>\n",
       "      <th>max</th>\n",
       "      <td>6264.000000</td>\n",
       "      <td>3670.000000</td>\n",
       "      <td>56.000000</td>\n",
       "      <td>1.000000</td>\n",
       "      <td>191.000000</td>\n",
       "      <td>115.000000</td>\n",
       "      <td>1714.000000</td>\n",
       "      <td>194.333333</td>\n",
       "      <td>97.500000</td>\n",
       "      <td>335.000000</td>\n",
       "      <td>6.475733</td>\n",
       "      <td>6.475733</td>\n",
       "      <td>155.000000</td>\n",
       "      <td>1.000000</td>\n",
       "      <td>156.319444</td>\n",
       "      <td>1.297980</td>\n",
       "      <td>74.457929</td>\n",
       "      <td>51520.000000</td>\n",
       "    </tr>\n",
       "  </tbody>\n",
       "</table>\n",
       "</div>"
      ],
      "text/plain": [
       "        Unnamed: 0           X1          age       gender       height  \\\n",
       "count  6264.000000  6264.000000  6264.000000  6264.000000  6264.000000   \n",
       "mean   3132.500000  1771.144317    29.158525     0.476533   169.709052   \n",
       "std    1808.405375  1097.988748     8.908978     0.499489    10.324698   \n",
       "min       1.000000     1.000000    18.000000     0.000000   143.000000   \n",
       "25%    1566.750000   789.750000    23.000000     0.000000   160.000000   \n",
       "50%    3132.500000  1720.000000    28.000000     0.000000   168.000000   \n",
       "75%    4698.250000  2759.250000    33.000000     1.000000   180.000000   \n",
       "max    6264.000000  3670.000000    56.000000     1.000000   191.000000   \n",
       "\n",
       "            weight        steps   heart_rate     calories     distance  \\\n",
       "count  6264.000000  6264.000000  6264.000000  6264.000000  6264.000000   \n",
       "mean     69.614464   109.562268    86.142331    19.471823    13.832555   \n",
       "std      13.451878   222.797908    28.648385    27.309765    45.941437   \n",
       "min      43.000000     1.000000     2.222222     0.056269     0.000440   \n",
       "25%      60.000000     5.159534    75.598079     0.735875     0.019135   \n",
       "50%      68.000000    10.092029    77.267680     4.000000     0.181719   \n",
       "75%      77.300000   105.847222    95.669118    20.500000    15.697188   \n",
       "max     115.000000  1714.000000   194.333333    97.500000   335.000000   \n",
       "\n",
       "       entropy_heart  entropy_steps  resting_heart  corr_heart_steps  \\\n",
       "count    6264.000000    6264.000000    6264.000000       6264.000000   \n",
       "mean        6.030314       5.739984      65.869938          0.306447   \n",
       "std         0.765574       1.256348      21.203017          0.775418   \n",
       "min         0.000000       0.000000       3.000000         -1.000000   \n",
       "25%         6.108524       5.909440      58.134333         -0.467303   \n",
       "50%         6.189825       6.157197      75.000000          0.665829   \n",
       "75%         6.247928       6.247928      76.138701          1.000000   \n",
       "max         6.475733       6.475733     155.000000          1.000000   \n",
       "\n",
       "        norm_heart  intensity_karvonen  sd_norm_heart  steps_times_distance  \n",
       "count  6264.000000         6264.000000    6264.000000           6264.000000  \n",
       "mean     20.272393            0.155479       8.110854            590.035239  \n",
       "std      28.388116            0.210927      12.535080           4063.838530  \n",
       "min     -76.000000           -2.714286       0.000000              0.000690  \n",
       "25%       1.148883            0.009819       0.264722              0.659260  \n",
       "50%       9.820254            0.079529       2.893503             13.368619  \n",
       "75%      27.077336            0.211868       9.679672             93.728562  \n",
       "max     156.319444            1.297980      74.457929          51520.000000  "
      ]
     },
     "execution_count": 4,
     "metadata": {},
     "output_type": "execute_result"
    }
   ],
   "source": [
    "data.describe()"
   ]
  },
  {
   "cell_type": "markdown",
   "metadata": {},
   "source": [
    "Looking at all the data described above, the columns that should further be analyzed individually because of large differences between the maximum value and 75%, between the minimum value and 25%, and from the irregular mean are weight, steps, heart_rate, calories, distance, and resting_heart. The other columns such as entropy and correlation columns will be looked at in the feature engineering section to determine the columns calculations that then became a column in the dataset.\n",
    "\n",
    "We will also look at the categorical columns to see the balance or imbalance of the dataset for that attribute."
   ]
  },
  {
   "cell_type": "markdown",
   "metadata": {},
   "source": [
    "### WEIGHT"
   ]
  },
  {
   "cell_type": "code",
   "execution_count": 5,
   "metadata": {},
   "outputs": [
    {
     "name": "stdout",
     "output_type": "stream",
     "text": [
      "WEIGHT:\n",
      "count    6264.000000\n",
      "mean       69.614464\n",
      "std        13.451878\n",
      "min        43.000000\n",
      "25%        60.000000\n",
      "50%        68.000000\n",
      "75%        77.300000\n",
      "max       115.000000\n",
      "Name: weight, dtype: float64\n",
      "range: 72.0\n",
      "median: 68.0\n"
     ]
    },
    {
     "data": {
      "text/plain": [
       "<matplotlib.axes._subplots.AxesSubplot at 0x1a6c27e9108>"
      ]
     },
     "execution_count": 5,
     "metadata": {},
     "output_type": "execute_result"
    },
    {
     "data": {
      "image/png": "[encoded data removed]",
      "text/plain": [
       "<Figure size 432x288 with 1 Axes>"
      ]
     },
     "metadata": {
      "needs_background": "light"
     },
     "output_type": "display_data"
    }
   ],
   "source": [
    "# weight column is a numeric value\n",
    "data['weight'] = pd.to_numeric(data['weight'])\n",
    "print(\"WEIGHT:\")\n",
    "print(data['weight'].describe())\n",
    "print(\"range:\", data['weight'].max() - data['weight'].min())\n",
    "print(\"median:\", data['weight'].median())\n",
    "data.boxplot(['weight'])"
   ]
  },
  {
   "cell_type": "markdown",
   "metadata": {},
   "source": [
    "#### Weight Analysis\n",
    "The minimum weight is 43kg (94lbs), and the maximum weight is 115kg (253lbs). While there are a few outliers, the weights are within reason, so the outliers should remain. The data only needs to be standardized."
   ]
  },
  {
   "cell_type": "markdown",
   "metadata": {},
   "source": [
    "### STEPS"
   ]
  },
  {
   "cell_type": "code",
   "execution_count": 6,
   "metadata": {},
   "outputs": [
    {
     "name": "stdout",
     "output_type": "stream",
     "text": [
      "STEPS:\n",
      "count    6264.000000\n",
      "mean      109.562268\n",
      "std       222.797908\n",
      "min         1.000000\n",
      "25%         5.159534\n",
      "50%        10.092029\n",
      "75%       105.847222\n",
      "max      1714.000000\n",
      "Name: steps, dtype: float64\n",
      "range: 1713.0\n",
      "median: 10.09202887\n",
      "\n",
      "Value Counts:\n",
      "1.000000       339\n",
      "10.771429       42\n",
      "1.157895        30\n",
      "10.631579       30\n",
      "4.000000        28\n",
      "              ... \n",
      "6.963636         1\n",
      "13.560000        1\n",
      "403.739130       1\n",
      "1281.000000      1\n",
      "59.532468        1\n",
      "Name: steps, Length: 3918, dtype: int64\n"
     ]
    },
    {
     "data": {
      "text/plain": [
       "<matplotlib.axes._subplots.AxesSubplot at 0x1a6c28d6d08>"
      ]
     },
     "execution_count": 6,
     "metadata": {},
     "output_type": "execute_result"
    },
    {
     "data": {
      "image/png": "[encoded data removed]",
      "text/plain": [
       "<Figure size 432x288 with 1 Axes>"
      ]
     },
     "metadata": {
      "needs_background": "light"
     },
     "output_type": "display_data"
    }
   ],
   "source": [
    "# steps column is a numeric value\n",
    "data['steps'] = pd.to_numeric(data['steps'])\n",
    "print(\"STEPS:\")\n",
    "print(data['steps'].describe())\n",
    "print(\"range:\", data['steps'].max() - data['steps'].min())\n",
    "print(\"median:\", data['steps'].median())\n",
    "print()\n",
    "print('Value Counts:\\n', data['steps'].value_counts(), sep='')\n",
    "data.boxplot(['steps'])"
   ]
  },
  {
   "cell_type": "markdown",
   "metadata": {},
   "source": [
    "#### Steps Analysis:\n",
    "There are a lot of outliers for steps, but, the outliers are gradual and do not look like a mistake as people take more than 250 steps."
   ]
  },
  {
   "cell_type": "markdown",
   "metadata": {},
   "source": [
    "### HEART RATE"
   ]
  },
  {
   "cell_type": "code",
   "execution_count": 7,
   "metadata": {},
   "outputs": [
    {
     "name": "stdout",
     "output_type": "stream",
     "text": [
      "HEART RATE:\n",
      "count    6264.000000\n",
      "mean       86.142331\n",
      "std        28.648385\n",
      "min         2.222222\n",
      "25%        75.598079\n",
      "50%        77.267680\n",
      "75%        95.669118\n",
      "max       194.333333\n",
      "Name: heart_rate, dtype: float64\n",
      "range: 192.11111107800002\n",
      "median: 77.26768008\n"
     ]
    },
    {
     "data": {
      "text/plain": [
       "<matplotlib.axes._subplots.AxesSubplot at 0x1a6c2930788>"
      ]
     },
     "execution_count": 7,
     "metadata": {},
     "output_type": "execute_result"
    },
    {
     "data": {
      "image/png": "[encoded data removed]",
      "text/plain": [
       "<Figure size 432x288 with 1 Axes>"
      ]
     },
     "metadata": {
      "needs_background": "light"
     },
     "output_type": "display_data"
    }
   ],
   "source": [
    "# heart rate column is a numeric value\n",
    "data['heart_rate'] = pd.to_numeric(data['heart_rate'])\n",
    "print(\"HEART RATE:\")\n",
    "print(data['heart_rate'].describe())\n",
    "print(\"range:\", data['heart_rate'].max() - data['heart_rate'].min())\n",
    "print(\"median:\", data['heart_rate'].median())\n",
    "data.boxplot(['heart_rate'])"
   ]
  },
  {
   "cell_type": "markdown",
   "metadata": {},
   "source": [
    "#### Heart Rate Analysis:\n",
    "The lowest heart rate calculated by a living person was 28 beats per minute. Therefore, these really low numbers are not possible on people and are incorrect. Those low numbers should use the average heart rate by age.\n",
    "\n",
    "The highest heart rate is 194 beats per minute. You can calculate your maximum heart rate by subtracting your age from 220. \n",
    "\n",
    "This data correction will be difficult in assuring the data is correct since the values range significantly and incorrectly for a living person."
   ]
  },
  {
   "cell_type": "markdown",
   "metadata": {},
   "source": [
    "### CALORIES"
   ]
  },
  {
   "cell_type": "code",
   "execution_count": 8,
   "metadata": {},
   "outputs": [
    {
     "name": "stdout",
     "output_type": "stream",
     "text": [
      "CALORIES:\n",
      "count    6264.000000\n",
      "mean       19.471823\n",
      "std        27.309765\n",
      "min         0.056269\n",
      "25%         0.735875\n",
      "50%         4.000000\n",
      "75%        20.500000\n",
      "max        97.500000\n",
      "Name: calories, dtype: float64\n",
      "range: 97.443730769\n",
      "median: 4.0\n"
     ]
    },
    {
     "data": {
      "text/plain": [
       "<matplotlib.axes._subplots.AxesSubplot at 0x1a6c29cf248>"
      ]
     },
     "execution_count": 8,
     "metadata": {},
     "output_type": "execute_result"
    },
    {
     "data": {
      "image/png": "[encoded data removed]",
      "text/plain": [
       "<Figure size 432x288 with 1 Axes>"
      ]
     },
     "metadata": {
      "needs_background": "light"
     },
     "output_type": "display_data"
    }
   ],
   "source": [
    "# calories column is a numeric value\n",
    "data['calories'] = pd.to_numeric(data['calories'])\n",
    "print(\"CALORIES:\")\n",
    "print(data['calories'].describe())\n",
    "print(\"range:\", data['calories'].max() - data['calories'].min())\n",
    "print(\"median:\", data['calories'].median())\n",
    "data.boxplot(['calories'])"
   ]
  },
  {
   "cell_type": "markdown",
   "metadata": {},
   "source": [
    "#### Calories Analysis:\n",
    "This seems to be the amount of calories burned in a time frame since the numbers are from 0 to 97. Most people seem to not be burning that many calories, so the outliers are primarily in the high range. However, the outliers are continous from around 50 to 97, which means the outliers are most likely not noise, but should be taken into consideration."
   ]
  },
  {
   "cell_type": "markdown",
   "metadata": {},
   "source": [
    "### DISTANCE"
   ]
  },
  {
   "cell_type": "code",
   "execution_count": 9,
   "metadata": {},
   "outputs": [
    {
     "name": "stdout",
     "output_type": "stream",
     "text": [
      "DISTANCE:\n",
      "count    6264.000000\n",
      "mean       13.832555\n",
      "std        45.941437\n",
      "min         0.000440\n",
      "25%         0.019135\n",
      "50%         0.181719\n",
      "75%        15.697188\n",
      "max       335.000000\n",
      "Name: distance, dtype: float64\n",
      "range: 334.99956\n",
      "median: 0.1817185\n"
     ]
    },
    {
     "data": {
      "text/plain": [
       "<matplotlib.axes._subplots.AxesSubplot at 0x1a6c2a1e848>"
      ]
     },
     "execution_count": 9,
     "metadata": {},
     "output_type": "execute_result"
    },
    {
     "data": {
      "image/png": "[encoded data removed]",
      "text/plain": [
       "<Figure size 432x288 with 1 Axes>"
      ]
     },
     "metadata": {
      "needs_background": "light"
     },
     "output_type": "display_data"
    }
   ],
   "source": [
    "# distance column is a numeric value\n",
    "data['distance'] = pd.to_numeric(data['distance'])\n",
    "print(\"DISTANCE:\")\n",
    "print(data['distance'].describe())\n",
    "print(\"range:\", data['distance'].max() - data['distance'].min())\n",
    "print(\"median:\", data['distance'].median())\n",
    "data.boxplot(['distance'])"
   ]
  },
  {
   "cell_type": "markdown",
   "metadata": {},
   "source": [
    "#### Distance Analysis:\n",
    "Distance, similar to Calories, is generally very low with a lot of outliers greater than most of the values."
   ]
  },
  {
   "cell_type": "markdown",
   "metadata": {},
   "source": [
    "### RESTING HEART RATE"
   ]
  },
  {
   "cell_type": "code",
   "execution_count": 10,
   "metadata": {},
   "outputs": [
    {
     "name": "stdout",
     "output_type": "stream",
     "text": [
      "RESTING HEART RATE:\n",
      "count    6264.000000\n",
      "mean       65.869938\n",
      "std        21.203017\n",
      "min         3.000000\n",
      "25%        58.134333\n",
      "50%        75.000000\n",
      "75%        76.138701\n",
      "max       155.000000\n",
      "Name: resting_heart, dtype: float64\n",
      "range: 152.0\n",
      "median: 75.0\n"
     ]
    },
    {
     "data": {
      "text/plain": [
       "<matplotlib.axes._subplots.AxesSubplot at 0x1a6c2aa77c8>"
      ]
     },
     "execution_count": 10,
     "metadata": {},
     "output_type": "execute_result"
    },
    {
     "data": {
      "image/png": "[encoded data removed]",
      "text/plain": [
       "<Figure size 432x288 with 1 Axes>"
      ]
     },
     "metadata": {
      "needs_background": "light"
     },
     "output_type": "display_data"
    }
   ],
   "source": [
    "# resting_heart column is a numeric value\n",
    "data['resting_heart'] = pd.to_numeric(data['resting_heart'])\n",
    "print(\"RESTING HEART RATE:\")\n",
    "print(data['resting_heart'].describe())\n",
    "print(\"range:\", data['resting_heart'].max() - data['resting_heart'].min())\n",
    "print(\"median:\", data['resting_heart'].median())\n",
    "data.boxplot(['resting_heart'])"
   ]
  },
  {
   "cell_type": "markdown",
   "metadata": {},
   "source": [
    "#### Resting Heart Rate Analysis:\n",
    "Just like heart rate, the resting heart rate has values below 28, which is the minimum beats per minute of a living person. Those values less than 28 will need to be binned or replaced with the median values."
   ]
  },
  {
   "cell_type": "markdown",
   "metadata": {},
   "source": [
    "### DEVICE"
   ]
  },
  {
   "cell_type": "code",
   "execution_count": 11,
   "metadata": {},
   "outputs": [
    {
     "name": "stdout",
     "output_type": "stream",
     "text": [
      "DEVICE:\n",
      "device\n",
      "apple watch    3656\n",
      "fitbit         2608\n",
      "dtype: int64\n"
     ]
    },
    {
     "data": {
      "image/png": "[encoded data removed]",
      "text/plain": [
       "<Figure size 432x288 with 1 Axes>"
      ]
     },
     "metadata": {},
     "output_type": "display_data"
    }
   ],
   "source": [
    "# device column is a categorical value\n",
    "print(\"DEVICE:\")\n",
    "groups = data.groupby('device')\n",
    "print(groups.size())\n",
    "pie_edu = groups.size().plot(kind='pie', autopct='%1.1f%%', pctdistance=1.2, labeldistance=1.4, startangle=90)\n",
    "pie_edu.set_ylabel('')\n",
    "pie_edu.set_xlabel('')\n",
    "plt.tight_layout()\n",
    "plt.show()"
   ]
  },
  {
   "cell_type": "markdown",
   "metadata": {},
   "source": [
    "#### Device Analysis:\n",
    "There are more apple watches than fitbits in the dataset. This difference is not so significant to the results of this problem, which is to determine the activity. So, no data cleaning should be necessary for this attribute."
   ]
  },
  {
   "cell_type": "markdown",
   "metadata": {},
   "source": [
    "### ACTIVITY"
   ]
  },
  {
   "cell_type": "code",
   "execution_count": 12,
   "metadata": {},
   "outputs": [
    {
     "name": "stdout",
     "output_type": "stream",
     "text": [
      "ACTIVITY:\n",
      "activity\n",
      "Lying             1379\n",
      "Running 3 METs     950\n",
      "Running 5 METs    1002\n",
      "Running 7 METs    1114\n",
      "Self Pace walk     889\n",
      "Sitting            930\n",
      "dtype: int64\n"
     ]
    },
    {
     "data": {
      "image/png": "[encoded data removed]",
      "text/plain": [
       "<Figure size 432x288 with 1 Axes>"
      ]
     },
     "metadata": {},
     "output_type": "display_data"
    }
   ],
   "source": [
    "# activity column is a categorical value of the label\n",
    "print(\"ACTIVITY:\")\n",
    "groups = data.groupby('activity')\n",
    "print(groups.size())\n",
    "pie_edu = groups.size().plot(kind='pie', autopct='%1.1f%%', pctdistance=1.2, labeldistance=1.4, startangle=90)\n",
    "pie_edu.set_ylabel('')\n",
    "pie_edu.set_xlabel('')\n",
    "plt.tight_layout()\n",
    "plt.show()"
   ]
  },
  {
   "cell_type": "markdown",
   "metadata": {},
   "source": [
    "#### Activity Analysis:\n",
    "All the activities are fairly uniform ranging from being 14.2% of the data to 22% of the data. For a multi-class dataset of 6 different classes, this distribution is reasonable enough to not need any data cleaning to even out the classes with oversampling, undersampling, or SMOTE."
   ]
  },
  {
   "cell_type": "markdown",
   "metadata": {},
   "source": [
    "### Univariate Analysis Summary:\n",
    "Out of the features analyzed, only one numeric feature did not have any outliers, height. The rest of the numeric features had either a few outliers, age and weight, or had a lot of outliers, steps, heart rate, calories, distance, and resting heart rate."
   ]
  },
  {
   "cell_type": "markdown",
   "metadata": {},
   "source": [
    "## Multivariate Analysis\n",
    "In this next section of the data exploration, we will be taking attributes and anlyzing them together to find outliers or noise."
   ]
  },
  {
   "cell_type": "markdown",
   "metadata": {},
   "source": [
    "### GENDER, HEIGHT, WEIGHT"
   ]
  },
  {
   "cell_type": "code",
   "execution_count": 13,
   "metadata": {},
   "outputs": [
    {
     "data": {
      "image/png": "[encoded data removed]",
      "text/plain": [
       "<Figure size 432x288 with 1 Axes>"
      ]
     },
     "metadata": {
      "needs_background": "light"
     },
     "output_type": "display_data"
    }
   ],
   "source": [
    "females = data[data['gender'] == 0]\n",
    "males = data[data['gender'] == 1]\n",
    "\n",
    "# plot females in blue\n",
    "plt.scatter(females['height'], \n",
    "           females['weight'], \n",
    "           c='blue', marker = 'x')\n",
    "\n",
    "# plot males in red\n",
    "plt.scatter(males['height'], \n",
    "           males['weight'], \n",
    "           c='red', marker = 'x')\n",
    "\n",
    "plt.xlabel('height')\n",
    "plt.ylabel('weight')\n",
    "plt.title(\"Height and Weight by Gender\")\n",
    "plt.show()"
   ]
  },
  {
   "cell_type": "markdown",
   "metadata": {},
   "source": [
    "#### Gender, Height, and Weight Analysis:\n",
    "This scatterplot shows a generalized look at how the various the people are based on gender, height, and weight. Overall, the height and weight are positively correlated with females generally less than males in weight and height. This analysis demonstrates a fairly normal distribution of people for this project."
   ]
  },
  {
   "cell_type": "markdown",
   "metadata": {},
   "source": [
    "### STEPS, DISTANCE"
   ]
  },
  {
   "cell_type": "code",
   "execution_count": 14,
   "metadata": {},
   "outputs": [
    {
     "data": {
      "text/plain": [
       "<matplotlib.axes._subplots.AxesSubplot at 0x1a6c2be1d48>"
      ]
     },
     "execution_count": 14,
     "metadata": {},
     "output_type": "execute_result"
    },
    {
     "data": {
      "image/png": "[encoded data removed]",
      "text/plain": [
       "<Figure size 432x288 with 1 Axes>"
      ]
     },
     "metadata": {
      "needs_background": "light"
     },
     "output_type": "display_data"
    }
   ],
   "source": [
    "data.plot.scatter('steps', 'distance')"
   ]
  },
  {
   "cell_type": "markdown",
   "metadata": {},
   "source": [
    "#### Steps and Distance Analysis:\n",
    "This here demonstrates that any distance made does not equate to number of steps. Those with more distance have less steps. If the data is correct, this could only mean that people are walking in place, or the steps are of the day and the distance is of that time.\n",
    "\n",
    "With data cleaning of the steps and distance, hopefully this comparison becomes more distinctive."
   ]
  },
  {
   "cell_type": "markdown",
   "metadata": {},
   "source": [
    "### CALORIES, HEART RATE"
   ]
  },
  {
   "cell_type": "code",
   "execution_count": 15,
   "metadata": {},
   "outputs": [
    {
     "data": {
      "text/plain": [
       "<matplotlib.axes._subplots.AxesSubplot at 0x1a6c2cd0a88>"
      ]
     },
     "execution_count": 15,
     "metadata": {},
     "output_type": "execute_result"
    },
    {
     "data": {
      "image/png": "[encoded data removed]",
      "text/plain": [
       "<Figure size 432x288 with 1 Axes>"
      ]
     },
     "metadata": {
      "needs_background": "light"
     },
     "output_type": "display_data"
    }
   ],
   "source": [
    "data.plot.scatter('calories', 'heart_rate')"
   ]
  },
  {
   "cell_type": "markdown",
   "metadata": {},
   "source": [
    "#### Calories and Heart Rate Analysis:\n",
    "There does not seem to be a strong correlation between heart rate and amount of calories burned."
   ]
  },
  {
   "cell_type": "markdown",
   "metadata": {},
   "source": [
    "### ACTIVITY ANALYSIS"
   ]
  },
  {
   "cell_type": "code",
   "execution_count": 16,
   "metadata": {},
   "outputs": [
    {
     "data": {
      "image/png": "[encoded data removed]",
      "text/plain": [
       "<Figure size 432x288 with 1 Axes>"
      ]
     },
     "metadata": {
      "needs_background": "light"
     },
     "output_type": "display_data"
    }
   ],
   "source": [
    "activities = {'Lying':'red', 'Running 3 METs':'blue', 'Running 5 METs':'green', 'Running 7 METs':'yellow',\n",
    "             'Self Pace walk':'purple', 'Sitting':'orange'}\n",
    "plt.scatter(data['calories'], \n",
    "           data['distance'], \n",
    "           c=data['activity'].apply(lambda x: activities[x]),\n",
    "           marker = 'x')\n",
    "plt.xlabel('calories')\n",
    "plt.ylabel('distance')\n",
    "plt.title(\"Activity by Calories and Distance\")\n",
    "plt.show()"
   ]
  },
  {
   "cell_type": "markdown",
   "metadata": {},
   "source": [
    "#### Calories and Distance Analysis:\n",
    "There seems to be a high correlation between calories and the activity. Calories between 10 and 30 seem to equate more Running 7 METs, and calories close to zero equate to Lying. There are a lot of data points that blend in at the bottom of the scatter plot where distance is close to zero, which could still mean any activity."
   ]
  },
  {
   "cell_type": "code",
   "execution_count": 17,
   "metadata": {},
   "outputs": [
    {
     "data": {
      "image/png": "[encoded data removed]",
      "text/plain": [
       "<Figure size 432x288 with 1 Axes>"
      ]
     },
     "metadata": {
      "needs_background": "light"
     },
     "output_type": "display_data"
    }
   ],
   "source": [
    "activities = {'Lying':'red', 'Running 3 METs':'blue', 'Running 5 METs':'green', 'Running 7 METs':'yellow',\n",
    "             'Self Pace walk':'purple', 'Sitting':'orange'}\n",
    "plt.scatter(data['weight'], \n",
    "           data['heart_rate'], \n",
    "           c=data['activity'].apply(lambda x: activities[x]),\n",
    "           marker = 'x')\n",
    "plt.xlabel('weight')\n",
    "plt.ylabel('heart_rate')\n",
    "plt.title(\"Activity by Weight and Heart Rate\")\n",
    "plt.show()"
   ]
  },
  {
   "cell_type": "markdown",
   "metadata": {},
   "source": [
    "#### Weight and Heart Rate Analysis:\n",
    "The only activity that stands out is Running 7 METs, which seems to have the highest heart_rates no matter the weight."
   ]
  },
  {
   "cell_type": "code",
   "execution_count": 18,
   "metadata": {},
   "outputs": [
    {
     "data": {
      "image/png": "[encoded data removed]",
      "text/plain": [
       "<Figure size 432x288 with 1 Axes>"
      ]
     },
     "metadata": {
      "needs_background": "light"
     },
     "output_type": "display_data"
    }
   ],
   "source": [
    "activities = {'Lying':'red', 'Running 3 METs':'blue', 'Running 5 METs':'green', 'Running 7 METs':'yellow',\n",
    "             'Self Pace walk':'purple', 'Sitting':'orange'}\n",
    "plt.scatter(data['heart_rate'], \n",
    "           data['steps'], \n",
    "           c=data['activity'].apply(lambda x: activities[x]),\n",
    "           marker = 'x')\n",
    "plt.xlabel('heart_rate')\n",
    "plt.ylabel('steps')\n",
    "plt.title(\"Activity by Heart Rate and Steps\")\n",
    "plt.show()"
   ]
  },
  {
   "cell_type": "markdown",
   "metadata": {},
   "source": [
    "#### Heart Rate and Steps Analysis:\n",
    "There is a correlation between high heart rates, more steps, and Running 7 METs. The next highest heart rate with steps is Running 5 METs. After that, with so many activities, the colors start to blend with lying, sitting, self pace walking, and running 3 METs."
   ]
  },
  {
   "cell_type": "markdown",
   "metadata": {},
   "source": [
    "### Overall Data Exploration Analysis:\n",
    "This dataset is has no missing data. However, there is some data that seems to be incorrect such as the heart rates below 28 beats per minute. The incorrect data will need to be resolved in the next section, data cleaning. The heart rate also seems to have a higher correlation with the activity involving Running 7 METs."
   ]
  },
  {
   "cell_type": "markdown",
   "metadata": {},
   "source": [
    "## 2. Data Cleaning\n",
    "This is where we will take the explored data and correct the records in the data set depending on that anlysis. Some features will need to be cleaned in a pipeline since they will be standardized and only the training set is allowed to be standardized. Therefore, in this section, we will only clean up heart rate and resting heart rate since some of those data points are below the minimum threshold."
   ]
  },
  {
   "cell_type": "markdown",
   "metadata": {},
   "source": [
    "### HEART RATE\n",
    "We need to correct any heart rates below 28 beats per minute to be the median value. Any heart rate below 28 beats per minute is incorrect since that is not possible. We will also make sure all high values are correct according to the rules that the maximum heart rate is 220 minus your age."
   ]
  },
  {
   "cell_type": "code",
   "execution_count": 19,
   "metadata": {},
   "outputs": [
    {
     "name": "stdout",
     "output_type": "stream",
     "text": [
      "count    6264.000000\n",
      "mean       87.341461\n",
      "std        26.859190\n",
      "min        28.069072\n",
      "25%        75.737305\n",
      "50%        77.267680\n",
      "75%        95.669118\n",
      "max       194.333333\n",
      "Name: heart_rate, dtype: float64\n"
     ]
    },
    {
     "data": {
      "text/plain": [
       "<matplotlib.axes._subplots.AxesSubplot at 0x1a6c3e97608>"
      ]
     },
     "execution_count": 19,
     "metadata": {},
     "output_type": "execute_result"
    },
    {
     "data": {
      "image/png": "[encoded data removed]",
      "text/plain": [
       "<Figure size 432x288 with 1 Axes>"
      ]
     },
     "metadata": {
      "needs_background": "light"
     },
     "output_type": "display_data"
    }
   ],
   "source": [
    "# First, we will correct the low heart rates\n",
    "med = data['heart_rate'].median()\n",
    "data['heart_rate'] = data['heart_rate'].apply(lambda x : x if x > 28.00 else med)\n",
    "\n",
    "# Second, we will go through the high heart rates\n",
    "data['heart_rate'].mask(220 - data['age'] < data['heart_rate'], 220 - data['age'], inplace=True)\n",
    "\n",
    "print(data['heart_rate'].describe())\n",
    "data.boxplot(['heart_rate'])"
   ]
  },
  {
   "cell_type": "markdown",
   "metadata": {},
   "source": [
    "### RESTING HEART RATE\n",
    "Just like the heart rate column, we need to change any heart rate below 28 to be the median value."
   ]
  },
  {
   "cell_type": "code",
   "execution_count": 20,
   "metadata": {},
   "outputs": [
    {
     "name": "stdout",
     "output_type": "stream",
     "text": [
      "count    6264.000000\n",
      "mean       70.797189\n",
      "std        14.465997\n",
      "min        29.000000\n",
      "25%        64.270409\n",
      "50%        75.000000\n",
      "75%        76.138701\n",
      "max       155.000000\n",
      "Name: resting_heart, dtype: float64\n"
     ]
    },
    {
     "data": {
      "image/png": "[encoded data removed]",
      "text/plain": [
       "<Figure size 432x288 with 1 Axes>"
      ]
     },
     "metadata": {
      "needs_background": "light"
     },
     "output_type": "display_data"
    }
   ],
   "source": [
    "med = data['resting_heart'].median()\n",
    "\n",
    "data['resting_heart'] = data['resting_heart'].apply(lambda x : x if x > 28.00 else med)\n",
    "data.boxplot(['resting_heart'])\n",
    "print(data['resting_heart'].describe())"
   ]
  },
  {
   "cell_type": "markdown",
   "metadata": {},
   "source": [
    "### INTENSITY KARVONEN\n",
    "The formula for karvonen uses the resting heart rate and the maximum heart rate to determine the [target training heart rate](https://www.physiotherapy-treatment.com/karvonen-formula.html). This formula is calculated to determine the target heart rate during workouts. Since the heart rates have been cleaned by replacing any values below 28 with the median, we will need to recalculate the intensity_karvonen column. We will also rename the intensity_karvonen column to be just karvonen for simplicity."
   ]
  },
  {
   "cell_type": "code",
   "execution_count": 21,
   "metadata": {},
   "outputs": [
    {
     "name": "stdout",
     "output_type": "stream",
     "text": [
      "count    6264.000000\n",
      "mean      142.823761\n",
      "std         8.169521\n",
      "min       111.429687\n",
      "25%       139.343862\n",
      "50%       143.069135\n",
      "75%       147.868719\n",
      "max       174.200000\n",
      "Name: karvonen, dtype: float64\n"
     ]
    },
    {
     "data": {
      "image/png": "[encoded data removed]",
      "text/plain": [
       "<Figure size 432x288 with 1 Axes>"
      ]
     },
     "metadata": {
      "needs_background": "light"
     },
     "output_type": "display_data"
    }
   ],
   "source": [
    "data['intensity_karvonen'].mask(\n",
    "    data['resting_heart']+(0.6*((220 - data['age'])-data['resting_heart'])) != data['intensity_karvonen'], \n",
    "         data['resting_heart']+(0.6*((220 - data['age'])-data['resting_heart'])), inplace=True)\n",
    "\n",
    "data = data.rename(columns={'intensity_karvonen' : 'karvonen'})\n",
    "\n",
    "data.boxplot(['karvonen'])\n",
    "print(data['karvonen'].describe())"
   ]
  },
  {
   "cell_type": "markdown",
   "metadata": {},
   "source": [
    "### Data Cleaning Analysis:\n",
    "We have cleaned the heart rate columns to have every value above 28 beats per minute to which we then re-calculated the intensity karvonen column using the new resting heart rates. \n",
    "\n",
    "In the feature engineering section, we will have to adjust the other columns to match the cleaned dataset or be removed from the dataset completely. The rest of the columns will be standardized in a pipeline during the method classifiers creation.\n",
    "\n",
    "Below is the dataset's numeric descriptions after data cleaning."
   ]
  },
  {
   "cell_type": "code",
   "execution_count": 22,
   "metadata": {},
   "outputs": [
    {
     "data": {
      "text/html": [
       "<div>\n",
       "<style scoped>\n",
       "    .dataframe tbody tr th:only-of-type {\n",
       "        vertical-align: middle;\n",
       "    }\n",
       "\n",
       "    .dataframe tbody tr th {\n",
       "        vertical-align: top;\n",
       "    }\n",
       "\n",
       "    .dataframe thead th {\n",
       "        text-align: right;\n",
       "    }\n",
       "</style>\n",
       "<table border=\"1\" class=\"dataframe\">\n",
       "  <thead>\n",
       "    <tr style=\"text-align: right;\">\n",
       "      <th></th>\n",
       "      <th>Unnamed: 0</th>\n",
       "      <th>X1</th>\n",
       "      <th>age</th>\n",
       "      <th>gender</th>\n",
       "      <th>height</th>\n",
       "      <th>weight</th>\n",
       "      <th>steps</th>\n",
       "      <th>heart_rate</th>\n",
       "      <th>calories</th>\n",
       "      <th>distance</th>\n",
       "      <th>entropy_heart</th>\n",
       "      <th>entropy_steps</th>\n",
       "      <th>resting_heart</th>\n",
       "      <th>corr_heart_steps</th>\n",
       "      <th>norm_heart</th>\n",
       "      <th>karvonen</th>\n",
       "      <th>sd_norm_heart</th>\n",
       "      <th>steps_times_distance</th>\n",
       "    </tr>\n",
       "  </thead>\n",
       "  <tbody>\n",
       "    <tr>\n",
       "      <th>count</th>\n",
       "      <td>6264.000000</td>\n",
       "      <td>6264.000000</td>\n",
       "      <td>6264.000000</td>\n",
       "      <td>6264.000000</td>\n",
       "      <td>6264.000000</td>\n",
       "      <td>6264.000000</td>\n",
       "      <td>6264.000000</td>\n",
       "      <td>6264.000000</td>\n",
       "      <td>6264.000000</td>\n",
       "      <td>6264.000000</td>\n",
       "      <td>6264.000000</td>\n",
       "      <td>6264.000000</td>\n",
       "      <td>6264.000000</td>\n",
       "      <td>6264.000000</td>\n",
       "      <td>6264.000000</td>\n",
       "      <td>6264.000000</td>\n",
       "      <td>6264.000000</td>\n",
       "      <td>6264.000000</td>\n",
       "    </tr>\n",
       "    <tr>\n",
       "      <th>mean</th>\n",
       "      <td>3132.500000</td>\n",
       "      <td>1771.144317</td>\n",
       "      <td>29.158525</td>\n",
       "      <td>0.476533</td>\n",
       "      <td>169.709052</td>\n",
       "      <td>69.614464</td>\n",
       "      <td>109.562268</td>\n",
       "      <td>87.341461</td>\n",
       "      <td>19.471823</td>\n",
       "      <td>13.832555</td>\n",
       "      <td>6.030314</td>\n",
       "      <td>5.739984</td>\n",
       "      <td>70.797189</td>\n",
       "      <td>0.306447</td>\n",
       "      <td>20.272393</td>\n",
       "      <td>142.823761</td>\n",
       "      <td>8.110854</td>\n",
       "      <td>590.035239</td>\n",
       "    </tr>\n",
       "    <tr>\n",
       "      <th>std</th>\n",
       "      <td>1808.405375</td>\n",
       "      <td>1097.988748</td>\n",
       "      <td>8.908978</td>\n",
       "      <td>0.499489</td>\n",
       "      <td>10.324698</td>\n",
       "      <td>13.451878</td>\n",
       "      <td>222.797908</td>\n",
       "      <td>26.859190</td>\n",
       "      <td>27.309765</td>\n",
       "      <td>45.941437</td>\n",
       "      <td>0.765574</td>\n",
       "      <td>1.256348</td>\n",
       "      <td>14.465997</td>\n",
       "      <td>0.775418</td>\n",
       "      <td>28.388116</td>\n",
       "      <td>8.169521</td>\n",
       "      <td>12.535080</td>\n",
       "      <td>4063.838530</td>\n",
       "    </tr>\n",
       "    <tr>\n",
       "      <th>min</th>\n",
       "      <td>1.000000</td>\n",
       "      <td>1.000000</td>\n",
       "      <td>18.000000</td>\n",
       "      <td>0.000000</td>\n",
       "      <td>143.000000</td>\n",
       "      <td>43.000000</td>\n",
       "      <td>1.000000</td>\n",
       "      <td>28.069072</td>\n",
       "      <td>0.056269</td>\n",
       "      <td>0.000440</td>\n",
       "      <td>0.000000</td>\n",
       "      <td>0.000000</td>\n",
       "      <td>29.000000</td>\n",
       "      <td>-1.000000</td>\n",
       "      <td>-76.000000</td>\n",
       "      <td>111.429687</td>\n",
       "      <td>0.000000</td>\n",
       "      <td>0.000690</td>\n",
       "    </tr>\n",
       "    <tr>\n",
       "      <th>25%</th>\n",
       "      <td>1566.750000</td>\n",
       "      <td>789.750000</td>\n",
       "      <td>23.000000</td>\n",
       "      <td>0.000000</td>\n",
       "      <td>160.000000</td>\n",
       "      <td>60.000000</td>\n",
       "      <td>5.159534</td>\n",
       "      <td>75.737305</td>\n",
       "      <td>0.735875</td>\n",
       "      <td>0.019135</td>\n",
       "      <td>6.108524</td>\n",
       "      <td>5.909440</td>\n",
       "      <td>64.270409</td>\n",
       "      <td>-0.467303</td>\n",
       "      <td>1.148883</td>\n",
       "      <td>139.343862</td>\n",
       "      <td>0.264722</td>\n",
       "      <td>0.659260</td>\n",
       "    </tr>\n",
       "    <tr>\n",
       "      <th>50%</th>\n",
       "      <td>3132.500000</td>\n",
       "      <td>1720.000000</td>\n",
       "      <td>28.000000</td>\n",
       "      <td>0.000000</td>\n",
       "      <td>168.000000</td>\n",
       "      <td>68.000000</td>\n",
       "      <td>10.092029</td>\n",
       "      <td>77.267680</td>\n",
       "      <td>4.000000</td>\n",
       "      <td>0.181719</td>\n",
       "      <td>6.189825</td>\n",
       "      <td>6.157197</td>\n",
       "      <td>75.000000</td>\n",
       "      <td>0.665829</td>\n",
       "      <td>9.820254</td>\n",
       "      <td>143.069135</td>\n",
       "      <td>2.893503</td>\n",
       "      <td>13.368619</td>\n",
       "    </tr>\n",
       "    <tr>\n",
       "      <th>75%</th>\n",
       "      <td>4698.250000</td>\n",
       "      <td>2759.250000</td>\n",
       "      <td>33.000000</td>\n",
       "      <td>1.000000</td>\n",
       "      <td>180.000000</td>\n",
       "      <td>77.300000</td>\n",
       "      <td>105.847222</td>\n",
       "      <td>95.669118</td>\n",
       "      <td>20.500000</td>\n",
       "      <td>15.697188</td>\n",
       "      <td>6.247928</td>\n",
       "      <td>6.247928</td>\n",
       "      <td>76.138701</td>\n",
       "      <td>1.000000</td>\n",
       "      <td>27.077336</td>\n",
       "      <td>147.868719</td>\n",
       "      <td>9.679672</td>\n",
       "      <td>93.728562</td>\n",
       "    </tr>\n",
       "    <tr>\n",
       "      <th>max</th>\n",
       "      <td>6264.000000</td>\n",
       "      <td>3670.000000</td>\n",
       "      <td>56.000000</td>\n",
       "      <td>1.000000</td>\n",
       "      <td>191.000000</td>\n",
       "      <td>115.000000</td>\n",
       "      <td>1714.000000</td>\n",
       "      <td>194.333333</td>\n",
       "      <td>97.500000</td>\n",
       "      <td>335.000000</td>\n",
       "      <td>6.475733</td>\n",
       "      <td>6.475733</td>\n",
       "      <td>155.000000</td>\n",
       "      <td>1.000000</td>\n",
       "      <td>156.319444</td>\n",
       "      <td>174.200000</td>\n",
       "      <td>74.457929</td>\n",
       "      <td>51520.000000</td>\n",
       "    </tr>\n",
       "  </tbody>\n",
       "</table>\n",
       "</div>"
      ],
      "text/plain": [
       "        Unnamed: 0           X1          age       gender       height  \\\n",
       "count  6264.000000  6264.000000  6264.000000  6264.000000  6264.000000   \n",
       "mean   3132.500000  1771.144317    29.158525     0.476533   169.709052   \n",
       "std    1808.405375  1097.988748     8.908978     0.499489    10.324698   \n",
       "min       1.000000     1.000000    18.000000     0.000000   143.000000   \n",
       "25%    1566.750000   789.750000    23.000000     0.000000   160.000000   \n",
       "50%    3132.500000  1720.000000    28.000000     0.000000   168.000000   \n",
       "75%    4698.250000  2759.250000    33.000000     1.000000   180.000000   \n",
       "max    6264.000000  3670.000000    56.000000     1.000000   191.000000   \n",
       "\n",
       "            weight        steps   heart_rate     calories     distance  \\\n",
       "count  6264.000000  6264.000000  6264.000000  6264.000000  6264.000000   \n",
       "mean     69.614464   109.562268    87.341461    19.471823    13.832555   \n",
       "std      13.451878   222.797908    26.859190    27.309765    45.941437   \n",
       "min      43.000000     1.000000    28.069072     0.056269     0.000440   \n",
       "25%      60.000000     5.159534    75.737305     0.735875     0.019135   \n",
       "50%      68.000000    10.092029    77.267680     4.000000     0.181719   \n",
       "75%      77.300000   105.847222    95.669118    20.500000    15.697188   \n",
       "max     115.000000  1714.000000   194.333333    97.500000   335.000000   \n",
       "\n",
       "       entropy_heart  entropy_steps  resting_heart  corr_heart_steps  \\\n",
       "count    6264.000000    6264.000000    6264.000000       6264.000000   \n",
       "mean        6.030314       5.739984      70.797189          0.306447   \n",
       "std         0.765574       1.256348      14.465997          0.775418   \n",
       "min         0.000000       0.000000      29.000000         -1.000000   \n",
       "25%         6.108524       5.909440      64.270409         -0.467303   \n",
       "50%         6.189825       6.157197      75.000000          0.665829   \n",
       "75%         6.247928       6.247928      76.138701          1.000000   \n",
       "max         6.475733       6.475733     155.000000          1.000000   \n",
       "\n",
       "        norm_heart     karvonen  sd_norm_heart  steps_times_distance  \n",
       "count  6264.000000  6264.000000    6264.000000           6264.000000  \n",
       "mean     20.272393   142.823761       8.110854            590.035239  \n",
       "std      28.388116     8.169521      12.535080           4063.838530  \n",
       "min     -76.000000   111.429687       0.000000              0.000690  \n",
       "25%       1.148883   139.343862       0.264722              0.659260  \n",
       "50%       9.820254   143.069135       2.893503             13.368619  \n",
       "75%      27.077336   147.868719       9.679672             93.728562  \n",
       "max     156.319444   174.200000      74.457929          51520.000000  "
      ]
     },
     "execution_count": 22,
     "metadata": {},
     "output_type": "execute_result"
    }
   ],
   "source": [
    "data.describe()"
   ]
  },
  {
   "cell_type": "markdown",
   "metadata": {},
   "source": [
    "## 3. Feature Engineering\n",
    "This is where we will use dimensionality reduction and feature selection. The dataset already came with feature engineered columns such as entropy_heart, entropy_steps, corr_heart_steps, norm_heart, intensity_karvonen, sd_norm_heart, and steps_times_distance. We have already adjusted the intensity_karvonen column to be the karvonen formula of the optimal heart rate during cardio excersise, but the other columns will have to be removed since entropy, normalization, and standardization are determined based on the other columns and would then cause data leakage."
   ]
  },
  {
   "cell_type": "markdown",
   "metadata": {},
   "source": [
    "### DELETING COLUMNS\n",
    "We will remove columns entropy_heart, entropy_steps, corr_heart_steps, norm_heart, sd_norm_heart, and steps_times_distance since these features are dependent upon the dataset's overall relationship to one another and any analysis of those features would be data leakage. We will also drop the unnamed column and X1 column to only look at the attributes and label (activity) and not the row labels."
   ]
  },
  {
   "cell_type": "code",
   "execution_count": 23,
   "metadata": {},
   "outputs": [
    {
     "data": {
      "text/html": [
       "<div>\n",
       "<style scoped>\n",
       "    .dataframe tbody tr th:only-of-type {\n",
       "        vertical-align: middle;\n",
       "    }\n",
       "\n",
       "    .dataframe tbody tr th {\n",
       "        vertical-align: top;\n",
       "    }\n",
       "\n",
       "    .dataframe thead th {\n",
       "        text-align: right;\n",
       "    }\n",
       "</style>\n",
       "<table border=\"1\" class=\"dataframe\">\n",
       "  <thead>\n",
       "    <tr style=\"text-align: right;\">\n",
       "      <th></th>\n",
       "      <th>age</th>\n",
       "      <th>gender</th>\n",
       "      <th>height</th>\n",
       "      <th>weight</th>\n",
       "      <th>steps</th>\n",
       "      <th>heart_rate</th>\n",
       "      <th>calories</th>\n",
       "      <th>distance</th>\n",
       "      <th>resting_heart</th>\n",
       "      <th>karvonen</th>\n",
       "      <th>device</th>\n",
       "      <th>activity</th>\n",
       "    </tr>\n",
       "  </thead>\n",
       "  <tbody>\n",
       "    <tr>\n",
       "      <th>0</th>\n",
       "      <td>20</td>\n",
       "      <td>1</td>\n",
       "      <td>168.0</td>\n",
       "      <td>65.4</td>\n",
       "      <td>10.771429</td>\n",
       "      <td>78.531302</td>\n",
       "      <td>0.344533</td>\n",
       "      <td>0.008327</td>\n",
       "      <td>59.0</td>\n",
       "      <td>143.6</td>\n",
       "      <td>apple watch</td>\n",
       "      <td>Lying</td>\n",
       "    </tr>\n",
       "    <tr>\n",
       "      <th>1</th>\n",
       "      <td>20</td>\n",
       "      <td>1</td>\n",
       "      <td>168.0</td>\n",
       "      <td>65.4</td>\n",
       "      <td>11.475325</td>\n",
       "      <td>78.453390</td>\n",
       "      <td>3.287625</td>\n",
       "      <td>0.008896</td>\n",
       "      <td>59.0</td>\n",
       "      <td>143.6</td>\n",
       "      <td>apple watch</td>\n",
       "      <td>Lying</td>\n",
       "    </tr>\n",
       "    <tr>\n",
       "      <th>2</th>\n",
       "      <td>20</td>\n",
       "      <td>1</td>\n",
       "      <td>168.0</td>\n",
       "      <td>65.4</td>\n",
       "      <td>12.179221</td>\n",
       "      <td>78.540825</td>\n",
       "      <td>9.484000</td>\n",
       "      <td>0.009466</td>\n",
       "      <td>59.0</td>\n",
       "      <td>143.6</td>\n",
       "      <td>apple watch</td>\n",
       "      <td>Lying</td>\n",
       "    </tr>\n",
       "    <tr>\n",
       "      <th>3</th>\n",
       "      <td>20</td>\n",
       "      <td>1</td>\n",
       "      <td>168.0</td>\n",
       "      <td>65.4</td>\n",
       "      <td>12.883117</td>\n",
       "      <td>78.628260</td>\n",
       "      <td>10.154556</td>\n",
       "      <td>0.010035</td>\n",
       "      <td>59.0</td>\n",
       "      <td>143.6</td>\n",
       "      <td>apple watch</td>\n",
       "      <td>Lying</td>\n",
       "    </tr>\n",
       "    <tr>\n",
       "      <th>4</th>\n",
       "      <td>20</td>\n",
       "      <td>1</td>\n",
       "      <td>168.0</td>\n",
       "      <td>65.4</td>\n",
       "      <td>13.587013</td>\n",
       "      <td>78.715695</td>\n",
       "      <td>10.825111</td>\n",
       "      <td>0.010605</td>\n",
       "      <td>59.0</td>\n",
       "      <td>143.6</td>\n",
       "      <td>apple watch</td>\n",
       "      <td>Lying</td>\n",
       "    </tr>\n",
       "  </tbody>\n",
       "</table>\n",
       "</div>"
      ],
      "text/plain": [
       "   age  gender  height  weight      steps  heart_rate   calories  distance  \\\n",
       "0   20       1   168.0    65.4  10.771429   78.531302   0.344533  0.008327   \n",
       "1   20       1   168.0    65.4  11.475325   78.453390   3.287625  0.008896   \n",
       "2   20       1   168.0    65.4  12.179221   78.540825   9.484000  0.009466   \n",
       "3   20       1   168.0    65.4  12.883117   78.628260  10.154556  0.010035   \n",
       "4   20       1   168.0    65.4  13.587013   78.715695  10.825111  0.010605   \n",
       "\n",
       "   resting_heart  karvonen       device activity  \n",
       "0           59.0     143.6  apple watch    Lying  \n",
       "1           59.0     143.6  apple watch    Lying  \n",
       "2           59.0     143.6  apple watch    Lying  \n",
       "3           59.0     143.6  apple watch    Lying  \n",
       "4           59.0     143.6  apple watch    Lying  "
      ]
     },
     "execution_count": 23,
     "metadata": {},
     "output_type": "execute_result"
    }
   ],
   "source": [
    "data = data.drop(['Unnamed: 0', 'X1', 'entropy_heart', 'entropy_steps', 'corr_heart_steps', 'norm_heart', \n",
    "           'sd_norm_heart', 'steps_times_distance'], axis=1)\n",
    "\n",
    "data.head()"
   ]
  },
  {
   "cell_type": "markdown",
   "metadata": {},
   "source": [
    "### FEATURE CREATION\n",
    "With the removal of transformed columns, we will create new columns. One of these columns will be the difference between karvonen and heart_rate to determine if that person during that time is reaching their optimal cardio heart rate. Any positive number means that the person's heart rate is not at optimal cardio level, while any negative number means the heart rate is above cardio level."
   ]
  },
  {
   "cell_type": "code",
   "execution_count": 24,
   "metadata": {},
   "outputs": [
    {
     "data": {
      "text/plain": [
       "<matplotlib.axes._subplots.AxesSubplot at 0x1a6c4005788>"
      ]
     },
     "execution_count": 24,
     "metadata": {},
     "output_type": "execute_result"
    },
    {
     "data": {
      "image/png": "[encoded data removed]",
      "text/plain": [
       "<Figure size 432x288 with 1 Axes>"
      ]
     },
     "metadata": {
      "needs_background": "light"
     },
     "output_type": "display_data"
    }
   ],
   "source": [
    "# create karvonen_minus_hr. anything positive means less than optimal heart rate for cardio workouts\n",
    "data['karvonen_minus_hr'] = data.apply(lambda row: row.karvonen - row.heart_rate, axis = 1) \n",
    "\n",
    "data.boxplot(['karvonen_minus_hr'])"
   ]
  },
  {
   "cell_type": "markdown",
   "metadata": {},
   "source": [
    "#### Decompose Categorical Attribute\n",
    "Here we will seperate the device column to have seperate apple watch and fitbit columns. We will also seperate gender to be male (1) and female (0)."
   ]
  },
  {
   "cell_type": "code",
   "execution_count": 25,
   "metadata": {},
   "outputs": [],
   "source": [
    "# split device column to be apple watch and fitbit\n",
    "data['app_watch'] = data['device'].apply(lambda x : 1 if x == 'apple watch' else 0)\n",
    "data['fitbit'] = data['device'].apply(lambda x : 1 if x == 'fitbit' else 0)\n",
    "\n",
    "# split gender column to be male and female\n",
    "data['female'] = data['gender'].apply(lambda x : 1 if x == 0 else 0)\n",
    "data['male'] = data['gender'].apply(lambda x : 0 if x == 0 else 1)"
   ]
  },
  {
   "cell_type": "markdown",
   "metadata": {},
   "source": [
    "### REORGANIZE COLUMNS\n",
    "Now that all the features have been created, we will organize the columns logically by relationship with one another and have the label column, activity, as the last column."
   ]
  },
  {
   "cell_type": "code",
   "execution_count": 26,
   "metadata": {
    "scrolled": true
   },
   "outputs": [
    {
     "data": {
      "text/html": [
       "<div>\n",
       "<style scoped>\n",
       "    .dataframe tbody tr th:only-of-type {\n",
       "        vertical-align: middle;\n",
       "    }\n",
       "\n",
       "    .dataframe tbody tr th {\n",
       "        vertical-align: top;\n",
       "    }\n",
       "\n",
       "    .dataframe thead th {\n",
       "        text-align: right;\n",
       "    }\n",
       "</style>\n",
       "<table border=\"1\" class=\"dataframe\">\n",
       "  <thead>\n",
       "    <tr style=\"text-align: right;\">\n",
       "      <th></th>\n",
       "      <th>age</th>\n",
       "      <th>female</th>\n",
       "      <th>male</th>\n",
       "      <th>height</th>\n",
       "      <th>weight</th>\n",
       "      <th>heart_rate</th>\n",
       "      <th>resting_heart</th>\n",
       "      <th>karvonen</th>\n",
       "      <th>karvonen_minus_hr</th>\n",
       "      <th>calories</th>\n",
       "      <th>steps</th>\n",
       "      <th>distance</th>\n",
       "      <th>app_watch</th>\n",
       "      <th>fitbit</th>\n",
       "      <th>activity</th>\n",
       "    </tr>\n",
       "  </thead>\n",
       "  <tbody>\n",
       "    <tr>\n",
       "      <th>0</th>\n",
       "      <td>20</td>\n",
       "      <td>0</td>\n",
       "      <td>1</td>\n",
       "      <td>168.0</td>\n",
       "      <td>65.4</td>\n",
       "      <td>78.531302</td>\n",
       "      <td>59.0</td>\n",
       "      <td>143.6</td>\n",
       "      <td>65.068698</td>\n",
       "      <td>0.344533</td>\n",
       "      <td>10.771429</td>\n",
       "      <td>0.008327</td>\n",
       "      <td>1</td>\n",
       "      <td>0</td>\n",
       "      <td>Lying</td>\n",
       "    </tr>\n",
       "    <tr>\n",
       "      <th>1</th>\n",
       "      <td>20</td>\n",
       "      <td>0</td>\n",
       "      <td>1</td>\n",
       "      <td>168.0</td>\n",
       "      <td>65.4</td>\n",
       "      <td>78.453390</td>\n",
       "      <td>59.0</td>\n",
       "      <td>143.6</td>\n",
       "      <td>65.146610</td>\n",
       "      <td>3.287625</td>\n",
       "      <td>11.475325</td>\n",
       "      <td>0.008896</td>\n",
       "      <td>1</td>\n",
       "      <td>0</td>\n",
       "      <td>Lying</td>\n",
       "    </tr>\n",
       "    <tr>\n",
       "      <th>2</th>\n",
       "      <td>20</td>\n",
       "      <td>0</td>\n",
       "      <td>1</td>\n",
       "      <td>168.0</td>\n",
       "      <td>65.4</td>\n",
       "      <td>78.540825</td>\n",
       "      <td>59.0</td>\n",
       "      <td>143.6</td>\n",
       "      <td>65.059175</td>\n",
       "      <td>9.484000</td>\n",
       "      <td>12.179221</td>\n",
       "      <td>0.009466</td>\n",
       "      <td>1</td>\n",
       "      <td>0</td>\n",
       "      <td>Lying</td>\n",
       "    </tr>\n",
       "    <tr>\n",
       "      <th>3</th>\n",
       "      <td>20</td>\n",
       "      <td>0</td>\n",
       "      <td>1</td>\n",
       "      <td>168.0</td>\n",
       "      <td>65.4</td>\n",
       "      <td>78.628260</td>\n",
       "      <td>59.0</td>\n",
       "      <td>143.6</td>\n",
       "      <td>64.971740</td>\n",
       "      <td>10.154556</td>\n",
       "      <td>12.883117</td>\n",
       "      <td>0.010035</td>\n",
       "      <td>1</td>\n",
       "      <td>0</td>\n",
       "      <td>Lying</td>\n",
       "    </tr>\n",
       "    <tr>\n",
       "      <th>4</th>\n",
       "      <td>20</td>\n",
       "      <td>0</td>\n",
       "      <td>1</td>\n",
       "      <td>168.0</td>\n",
       "      <td>65.4</td>\n",
       "      <td>78.715695</td>\n",
       "      <td>59.0</td>\n",
       "      <td>143.6</td>\n",
       "      <td>64.884305</td>\n",
       "      <td>10.825111</td>\n",
       "      <td>13.587013</td>\n",
       "      <td>0.010605</td>\n",
       "      <td>1</td>\n",
       "      <td>0</td>\n",
       "      <td>Lying</td>\n",
       "    </tr>\n",
       "    <tr>\n",
       "      <th>5</th>\n",
       "      <td>20</td>\n",
       "      <td>0</td>\n",
       "      <td>1</td>\n",
       "      <td>168.0</td>\n",
       "      <td>65.4</td>\n",
       "      <td>78.803129</td>\n",
       "      <td>59.0</td>\n",
       "      <td>143.6</td>\n",
       "      <td>64.796871</td>\n",
       "      <td>11.495667</td>\n",
       "      <td>14.290909</td>\n",
       "      <td>0.011174</td>\n",
       "      <td>1</td>\n",
       "      <td>0</td>\n",
       "      <td>Sitting</td>\n",
       "    </tr>\n",
       "    <tr>\n",
       "      <th>6</th>\n",
       "      <td>20</td>\n",
       "      <td>0</td>\n",
       "      <td>1</td>\n",
       "      <td>168.0</td>\n",
       "      <td>65.4</td>\n",
       "      <td>78.890564</td>\n",
       "      <td>59.0</td>\n",
       "      <td>143.6</td>\n",
       "      <td>64.709436</td>\n",
       "      <td>12.166222</td>\n",
       "      <td>14.994805</td>\n",
       "      <td>0.011744</td>\n",
       "      <td>1</td>\n",
       "      <td>0</td>\n",
       "      <td>Sitting</td>\n",
       "    </tr>\n",
       "    <tr>\n",
       "      <th>7</th>\n",
       "      <td>20</td>\n",
       "      <td>0</td>\n",
       "      <td>1</td>\n",
       "      <td>168.0</td>\n",
       "      <td>65.4</td>\n",
       "      <td>78.977999</td>\n",
       "      <td>59.0</td>\n",
       "      <td>143.6</td>\n",
       "      <td>64.622001</td>\n",
       "      <td>12.836778</td>\n",
       "      <td>15.698701</td>\n",
       "      <td>0.012313</td>\n",
       "      <td>1</td>\n",
       "      <td>0</td>\n",
       "      <td>Sitting</td>\n",
       "    </tr>\n",
       "    <tr>\n",
       "      <th>8</th>\n",
       "      <td>20</td>\n",
       "      <td>0</td>\n",
       "      <td>1</td>\n",
       "      <td>168.0</td>\n",
       "      <td>65.4</td>\n",
       "      <td>79.065434</td>\n",
       "      <td>59.0</td>\n",
       "      <td>143.6</td>\n",
       "      <td>64.534566</td>\n",
       "      <td>13.507333</td>\n",
       "      <td>16.402597</td>\n",
       "      <td>0.012883</td>\n",
       "      <td>1</td>\n",
       "      <td>0</td>\n",
       "      <td>Sitting</td>\n",
       "    </tr>\n",
       "    <tr>\n",
       "      <th>9</th>\n",
       "      <td>20</td>\n",
       "      <td>0</td>\n",
       "      <td>1</td>\n",
       "      <td>168.0</td>\n",
       "      <td>65.4</td>\n",
       "      <td>79.152869</td>\n",
       "      <td>59.0</td>\n",
       "      <td>143.6</td>\n",
       "      <td>64.447131</td>\n",
       "      <td>14.177889</td>\n",
       "      <td>17.106494</td>\n",
       "      <td>0.013452</td>\n",
       "      <td>1</td>\n",
       "      <td>0</td>\n",
       "      <td>Sitting</td>\n",
       "    </tr>\n",
       "    <tr>\n",
       "      <th>10</th>\n",
       "      <td>20</td>\n",
       "      <td>0</td>\n",
       "      <td>1</td>\n",
       "      <td>168.0</td>\n",
       "      <td>65.4</td>\n",
       "      <td>79.240304</td>\n",
       "      <td>59.0</td>\n",
       "      <td>143.6</td>\n",
       "      <td>64.359696</td>\n",
       "      <td>14.848444</td>\n",
       "      <td>17.810390</td>\n",
       "      <td>0.014022</td>\n",
       "      <td>1</td>\n",
       "      <td>0</td>\n",
       "      <td>Self Pace walk</td>\n",
       "    </tr>\n",
       "    <tr>\n",
       "      <th>11</th>\n",
       "      <td>20</td>\n",
       "      <td>0</td>\n",
       "      <td>1</td>\n",
       "      <td>168.0</td>\n",
       "      <td>65.4</td>\n",
       "      <td>79.327738</td>\n",
       "      <td>59.0</td>\n",
       "      <td>143.6</td>\n",
       "      <td>64.272262</td>\n",
       "      <td>15.519000</td>\n",
       "      <td>18.514286</td>\n",
       "      <td>0.014591</td>\n",
       "      <td>1</td>\n",
       "      <td>0</td>\n",
       "      <td>Self Pace walk</td>\n",
       "    </tr>\n",
       "    <tr>\n",
       "      <th>12</th>\n",
       "      <td>20</td>\n",
       "      <td>0</td>\n",
       "      <td>1</td>\n",
       "      <td>168.0</td>\n",
       "      <td>65.4</td>\n",
       "      <td>79.415173</td>\n",
       "      <td>59.0</td>\n",
       "      <td>143.6</td>\n",
       "      <td>64.184827</td>\n",
       "      <td>15.506875</td>\n",
       "      <td>19.218182</td>\n",
       "      <td>0.015161</td>\n",
       "      <td>1</td>\n",
       "      <td>0</td>\n",
       "      <td>Self Pace walk</td>\n",
       "    </tr>\n",
       "    <tr>\n",
       "      <th>13</th>\n",
       "      <td>20</td>\n",
       "      <td>0</td>\n",
       "      <td>1</td>\n",
       "      <td>168.0</td>\n",
       "      <td>65.4</td>\n",
       "      <td>79.502608</td>\n",
       "      <td>59.0</td>\n",
       "      <td>143.6</td>\n",
       "      <td>64.097392</td>\n",
       "      <td>15.494750</td>\n",
       "      <td>19.922078</td>\n",
       "      <td>0.015730</td>\n",
       "      <td>1</td>\n",
       "      <td>0</td>\n",
       "      <td>Self Pace walk</td>\n",
       "    </tr>\n",
       "    <tr>\n",
       "      <th>14</th>\n",
       "      <td>20</td>\n",
       "      <td>0</td>\n",
       "      <td>1</td>\n",
       "      <td>168.0</td>\n",
       "      <td>65.4</td>\n",
       "      <td>79.590043</td>\n",
       "      <td>59.0</td>\n",
       "      <td>143.6</td>\n",
       "      <td>64.009957</td>\n",
       "      <td>15.482625</td>\n",
       "      <td>20.625974</td>\n",
       "      <td>0.016300</td>\n",
       "      <td>1</td>\n",
       "      <td>0</td>\n",
       "      <td>Self Pace walk</td>\n",
       "    </tr>\n",
       "    <tr>\n",
       "      <th>15</th>\n",
       "      <td>20</td>\n",
       "      <td>0</td>\n",
       "      <td>1</td>\n",
       "      <td>168.0</td>\n",
       "      <td>65.4</td>\n",
       "      <td>79.677478</td>\n",
       "      <td>59.0</td>\n",
       "      <td>143.6</td>\n",
       "      <td>63.922522</td>\n",
       "      <td>15.470500</td>\n",
       "      <td>21.329870</td>\n",
       "      <td>0.016869</td>\n",
       "      <td>1</td>\n",
       "      <td>0</td>\n",
       "      <td>Self Pace walk</td>\n",
       "    </tr>\n",
       "    <tr>\n",
       "      <th>16</th>\n",
       "      <td>20</td>\n",
       "      <td>0</td>\n",
       "      <td>1</td>\n",
       "      <td>168.0</td>\n",
       "      <td>65.4</td>\n",
       "      <td>79.764912</td>\n",
       "      <td>59.0</td>\n",
       "      <td>143.6</td>\n",
       "      <td>63.835088</td>\n",
       "      <td>15.458375</td>\n",
       "      <td>22.033766</td>\n",
       "      <td>0.017439</td>\n",
       "      <td>1</td>\n",
       "      <td>0</td>\n",
       "      <td>Self Pace walk</td>\n",
       "    </tr>\n",
       "    <tr>\n",
       "      <th>17</th>\n",
       "      <td>20</td>\n",
       "      <td>0</td>\n",
       "      <td>1</td>\n",
       "      <td>168.0</td>\n",
       "      <td>65.4</td>\n",
       "      <td>79.852347</td>\n",
       "      <td>59.0</td>\n",
       "      <td>143.6</td>\n",
       "      <td>63.747653</td>\n",
       "      <td>15.446250</td>\n",
       "      <td>22.737662</td>\n",
       "      <td>0.018008</td>\n",
       "      <td>1</td>\n",
       "      <td>0</td>\n",
       "      <td>Self Pace walk</td>\n",
       "    </tr>\n",
       "    <tr>\n",
       "      <th>18</th>\n",
       "      <td>20</td>\n",
       "      <td>0</td>\n",
       "      <td>1</td>\n",
       "      <td>168.0</td>\n",
       "      <td>65.4</td>\n",
       "      <td>79.939782</td>\n",
       "      <td>59.0</td>\n",
       "      <td>143.6</td>\n",
       "      <td>63.660218</td>\n",
       "      <td>15.434125</td>\n",
       "      <td>23.441558</td>\n",
       "      <td>0.018578</td>\n",
       "      <td>1</td>\n",
       "      <td>0</td>\n",
       "      <td>Self Pace walk</td>\n",
       "    </tr>\n",
       "    <tr>\n",
       "      <th>19</th>\n",
       "      <td>20</td>\n",
       "      <td>0</td>\n",
       "      <td>1</td>\n",
       "      <td>168.0</td>\n",
       "      <td>65.4</td>\n",
       "      <td>80.027217</td>\n",
       "      <td>59.0</td>\n",
       "      <td>143.6</td>\n",
       "      <td>63.572783</td>\n",
       "      <td>15.422000</td>\n",
       "      <td>24.145455</td>\n",
       "      <td>0.019147</td>\n",
       "      <td>1</td>\n",
       "      <td>0</td>\n",
       "      <td>Self Pace walk</td>\n",
       "    </tr>\n",
       "  </tbody>\n",
       "</table>\n",
       "</div>"
      ],
      "text/plain": [
       "    age  female  male  height  weight  heart_rate  resting_heart  karvonen  \\\n",
       "0    20       0     1   168.0    65.4   78.531302           59.0     143.6   \n",
       "1    20       0     1   168.0    65.4   78.453390           59.0     143.6   \n",
       "2    20       0     1   168.0    65.4   78.540825           59.0     143.6   \n",
       "3    20       0     1   168.0    65.4   78.628260           59.0     143.6   \n",
       "4    20       0     1   168.0    65.4   78.715695           59.0     143.6   \n",
       "5    20       0     1   168.0    65.4   78.803129           59.0     143.6   \n",
       "6    20       0     1   168.0    65.4   78.890564           59.0     143.6   \n",
       "7    20       0     1   168.0    65.4   78.977999           59.0     143.6   \n",
       "8    20       0     1   168.0    65.4   79.065434           59.0     143.6   \n",
       "9    20       0     1   168.0    65.4   79.152869           59.0     143.6   \n",
       "10   20       0     1   168.0    65.4   79.240304           59.0     143.6   \n",
       "11   20       0     1   168.0    65.4   79.327738           59.0     143.6   \n",
       "12   20       0     1   168.0    65.4   79.415173           59.0     143.6   \n",
       "13   20       0     1   168.0    65.4   79.502608           59.0     143.6   \n",
       "14   20       0     1   168.0    65.4   79.590043           59.0     143.6   \n",
       "15   20       0     1   168.0    65.4   79.677478           59.0     143.6   \n",
       "16   20       0     1   168.0    65.4   79.764912           59.0     143.6   \n",
       "17   20       0     1   168.0    65.4   79.852347           59.0     143.6   \n",
       "18   20       0     1   168.0    65.4   79.939782           59.0     143.6   \n",
       "19   20       0     1   168.0    65.4   80.027217           59.0     143.6   \n",
       "\n",
       "    karvonen_minus_hr   calories      steps  distance  app_watch  fitbit  \\\n",
       "0           65.068698   0.344533  10.771429  0.008327          1       0   \n",
       "1           65.146610   3.287625  11.475325  0.008896          1       0   \n",
       "2           65.059175   9.484000  12.179221  0.009466          1       0   \n",
       "3           64.971740  10.154556  12.883117  0.010035          1       0   \n",
       "4           64.884305  10.825111  13.587013  0.010605          1       0   \n",
       "5           64.796871  11.495667  14.290909  0.011174          1       0   \n",
       "6           64.709436  12.166222  14.994805  0.011744          1       0   \n",
       "7           64.622001  12.836778  15.698701  0.012313          1       0   \n",
       "8           64.534566  13.507333  16.402597  0.012883          1       0   \n",
       "9           64.447131  14.177889  17.106494  0.013452          1       0   \n",
       "10          64.359696  14.848444  17.810390  0.014022          1       0   \n",
       "11          64.272262  15.519000  18.514286  0.014591          1       0   \n",
       "12          64.184827  15.506875  19.218182  0.015161          1       0   \n",
       "13          64.097392  15.494750  19.922078  0.015730          1       0   \n",
       "14          64.009957  15.482625  20.625974  0.016300          1       0   \n",
       "15          63.922522  15.470500  21.329870  0.016869          1       0   \n",
       "16          63.835088  15.458375  22.033766  0.017439          1       0   \n",
       "17          63.747653  15.446250  22.737662  0.018008          1       0   \n",
       "18          63.660218  15.434125  23.441558  0.018578          1       0   \n",
       "19          63.572783  15.422000  24.145455  0.019147          1       0   \n",
       "\n",
       "          activity  \n",
       "0            Lying  \n",
       "1            Lying  \n",
       "2            Lying  \n",
       "3            Lying  \n",
       "4            Lying  \n",
       "5          Sitting  \n",
       "6          Sitting  \n",
       "7          Sitting  \n",
       "8          Sitting  \n",
       "9          Sitting  \n",
       "10  Self Pace walk  \n",
       "11  Self Pace walk  \n",
       "12  Self Pace walk  \n",
       "13  Self Pace walk  \n",
       "14  Self Pace walk  \n",
       "15  Self Pace walk  \n",
       "16  Self Pace walk  \n",
       "17  Self Pace walk  \n",
       "18  Self Pace walk  \n",
       "19  Self Pace walk  "
      ]
     },
     "execution_count": 26,
     "metadata": {},
     "output_type": "execute_result"
    }
   ],
   "source": [
    "# Rearrange the columns. activity is the label column\n",
    "data = data[['age', 'female', 'male', 'height', 'weight', 'heart_rate', 'resting_heart', 'karvonen', \n",
    "             'karvonen_minus_hr', 'calories', 'steps', 'distance', 'app_watch', 'fitbit', 'activity']]\n",
    "\n",
    "data.head(20)"
   ]
  },
  {
   "cell_type": "markdown",
   "metadata": {},
   "source": [
    "## PRE-PROCESSING ANALYSIS\n",
    "After going through the pre-processing steps of data exploration, data cleaning, and feature engineering, we ended up with 14 attributes after starting with 19 attributes. The dataset did not have any missing data, however, the heart rate data had some incorrect values from unlikely heart rate paces below 28 beats per minute, which is impossible for a living person. Those data records were corrected to the median value. Overall, the dataset is easy to read with descriptive titles for all attributes and enough records to possibly make a reasonable classification model.\n",
    "\n",
    "If the creator of this dataset created a classification model based on the features previously engineered in the dataset, I wonder if the normalized features would have caused data leakage and for his analysis to have an inaccurately high generalization error.\n",
    "\n",
    "In the next sections, we will be building classification models from this analyzed data using all the types of models learned in class. From there, we will then build ensemble methods to ultimately determine the best classification model. This is where we will compare our model's success to the success of the model built by Daniel Fuller, the data scientist who originally created the dataset."
   ]
  },
  {
   "cell_type": "markdown",
   "metadata": {},
   "source": [
    "# Building the Models\n",
    "\n",
    "From a real world perspective, we believe that Apple Watches and Fitbit devices might report health data with different levels of accuracy. Since Fitbit is a fitness-oriented device, we suspect it might report diagnostic data more accurately. To account for this, we will build models and assess accuracy for Apple Watch and Fitbit data separately.\n",
    "\n",
    "We will build several types of classification models - decision trees, k nearest neighbors, naive bayes, support vector machines, and artificial neural networks. For each classifier type, we will find the best models for both wearable devices, and then we will compare all of the results at the end. Eventually, the best models from this section will be compared to the best ensemble models.\n",
    "\n",
    "Since our data has very balanced classes, we think it is suitable to use generalization accuracy rather than F-measure to compare models. 5 fold cross validations will be utilized to minimize computation time."
   ]
  },
  {
   "cell_type": "markdown",
   "metadata": {},
   "source": [
    "## Preparing For Model Building\n",
    "Before we begin building models, we must split the data based on wearable device, and we must separate each of those subsets into features and labels. We will use dictionaries to keep track of the generalization accuracy for each model. That will allow us to easily compare and select the best models at the end."
   ]
  },
  {
   "cell_type": "code",
   "execution_count": 27,
   "metadata": {},
   "outputs": [],
   "source": [
    "# set number of folds to use\n",
    "NUM_FOLDS = 5\n",
    "\n",
    "# set number of cpu cores to use (half of available cores)\n",
    "NUM_CORES = os.cpu_count() // 2\n",
    "\n",
    "# split data into Apple Watch and Fitbit\n",
    "aw_data = data[data.app_watch == 1]\n",
    "fb_data = data[data.fitbit == 1]\n",
    "\n",
    "# drop the device identifier columns from the data\n",
    "aw_data.drop(['app_watch', 'fitbit'], axis=1, inplace=True)\n",
    "fb_data.drop(['app_watch', 'fitbit'], axis=1, inplace=True)\n",
    "\n",
    "# split aw data into features and labels\n",
    "Y_aw = aw_data['activity']\n",
    "X_aw = aw_data.drop('activity', axis=1)\n",
    "\n",
    "# split fb data into features and labels\n",
    "Y_fb = fb_data['activity']\n",
    "X_fb = fb_data.drop('activity', axis=1)\n",
    "\n",
    "# create dictionaries to keep track of models' generalization accuracies\n",
    "aw_accuracies = dict()\n",
    "fb_accuracies = dict()"
   ]
  },
  {
   "cell_type": "markdown",
   "metadata": {},
   "source": [
    "## 1. Decision Trees\n",
    "Now we will build the best decision tree model for each wearable.\n",
    "\n",
    "Since magnitude is unimportant to decision trees, scaling is not necessary. In addition, decision trees are good at determining the importance of features, so any sort of dimensionality reduction, like PCA, is unnecessary.\n",
    "\n",
    "In our hyperparameter tuning, we will try both entropy and gini for the split measurement. We will try various, modest numbers for max_depth, min_samples_split, and min_samples_leaf to prevent the tree from overfitting to the data. Though we have a decent number of records, we want to avoid overly specific leaves with few data points since such a tree won't generalize well."
   ]
  },
  {
   "cell_type": "code",
   "execution_count": 28,
   "metadata": {},
   "outputs": [],
   "source": [
    "# define tree parameters to try\n",
    "tree_params = {'criterion': ['entropy', 'gini'],\n",
    "              'max_depth': list(range(5, 21, 5)),\n",
    "              'min_samples_leaf': list(range(5, 21, 5)),\n",
    "              'max_features': list(range(4,13))}"
   ]
  },
  {
   "cell_type": "markdown",
   "metadata": {},
   "source": [
    "### APPLE WATCH\n",
    "#### Generalization Accuracy"
   ]
  },
  {
   "cell_type": "code",
   "execution_count": 29,
   "metadata": {},
   "outputs": [],
   "source": [
    "# create grid search with decision tree\n",
    "aw_tree_grid = GridSearchCV(DecisionTreeClassifier(), tree_params, cv=NUM_FOLDS, scoring='accuracy', n_jobs=NUM_CORES)\n",
    "\n",
    "# get the cross val scores\n",
    "aw_tree_scores = cross_val_score(aw_tree_grid, X_aw, Y_aw, cv=NUM_FOLDS, n_jobs=NUM_CORES);"
   ]
  },
  {
   "cell_type": "code",
   "execution_count": 30,
   "metadata": {},
   "outputs": [
    {
     "name": "stdout",
     "output_type": "stream",
     "text": [
      "Generalization Accuracy of Decision Tree (Apple Watch):\n",
      "0.290229\n"
     ]
    }
   ],
   "source": [
    "# get and print the generalization accuracy\n",
    "aw_tree_acc = aw_tree_scores.mean()\n",
    "print(f'Generalization Accuracy of Decision Tree (Apple Watch):\\n{aw_tree_acc:.6f}')\n",
    "\n",
    "# add accuracy to dictionary\n",
    "aw_accuracies['decision_tree'] = aw_tree_acc"
   ]
  },
  {
   "cell_type": "markdown",
   "metadata": {},
   "source": [
    "#### Best Hyperparameters"
   ]
  },
  {
   "cell_type": "code",
   "execution_count": 31,
   "metadata": {},
   "outputs": [],
   "source": [
    "# find the best parameters based on our entire dataset\n",
    "aw_tree_grid.fit(X_aw, Y_aw);"
   ]
  },
  {
   "cell_type": "code",
   "execution_count": 32,
   "metadata": {},
   "outputs": [
    {
     "name": "stdout",
     "output_type": "stream",
     "text": [
      "Best Decision Tree (Apple Watch) Hyperparameters for our Dataset:\n",
      "{'criterion': 'gini', 'max_depth': 15, 'max_features': 7, 'min_samples_leaf': 15}\n"
     ]
    }
   ],
   "source": [
    "# print best hyperparameters\n",
    "print(f'Best Decision Tree (Apple Watch) Hyperparameters for our Dataset:\\n{aw_tree_grid.best_params_}')"
   ]
  },
  {
   "cell_type": "markdown",
   "metadata": {},
   "source": [
    "### FITBIT\n",
    "#### Generalization Accuracy"
   ]
  },
  {
   "cell_type": "code",
   "execution_count": 33,
   "metadata": {},
   "outputs": [],
   "source": [
    "# create grid search with decision tree\n",
    "fb_tree_grid = GridSearchCV(DecisionTreeClassifier(), tree_params, cv=NUM_FOLDS, scoring='accuracy', n_jobs=NUM_CORES)\n",
    "\n",
    "# get the cross val scores\n",
    "fb_tree_scores = cross_val_score(fb_tree_grid, X_fb, Y_fb, cv=NUM_FOLDS, n_jobs=NUM_CORES);"
   ]
  },
  {
   "cell_type": "code",
   "execution_count": 34,
   "metadata": {},
   "outputs": [
    {
     "name": "stdout",
     "output_type": "stream",
     "text": [
      "Generalization Accuracy of Decision Tree (Fitbit):\n",
      "0.738811\n"
     ]
    }
   ],
   "source": [
    "# get and print the generalization accuracy\n",
    "fb_tree_acc = fb_tree_scores.mean()\n",
    "print(f'Generalization Accuracy of Decision Tree (Fitbit):\\n{fb_tree_acc:.6f}')\n",
    "\n",
    "# add accuracy to dictionary\n",
    "fb_accuracies['decision_tree'] = fb_tree_acc"
   ]
  },
  {
   "cell_type": "markdown",
   "metadata": {},
   "source": [
    "#### Best Hyperparameters"
   ]
  },
  {
   "cell_type": "code",
   "execution_count": 35,
   "metadata": {},
   "outputs": [],
   "source": [
    "# find the best parameters based on our entire dataset\n",
    "fb_tree_grid.fit(X_fb, Y_fb);"
   ]
  },
  {
   "cell_type": "code",
   "execution_count": 36,
   "metadata": {},
   "outputs": [
    {
     "name": "stdout",
     "output_type": "stream",
     "text": [
      "Best Decision Tree (Fitbit) Hyperparameters for our Dataset:\n",
      "{'criterion': 'entropy', 'max_depth': 15, 'max_features': 12, 'min_samples_leaf': 15}\n"
     ]
    }
   ],
   "source": [
    "# print best hyperparameters\n",
    "print(f'Best Decision Tree (Fitbit) Hyperparameters for our Dataset:\\n{fb_tree_grid.best_params_}')"
   ]
  },
  {
   "cell_type": "markdown",
   "metadata": {},
   "source": [
    "There is a significant disparity between generalization accuracy for the Apple Watch and Fitbit decision trees. We will keep an eye out for this pattern from here."
   ]
  },
  {
   "cell_type": "markdown",
   "metadata": {},
   "source": [
    "## 2. K Nearest Neighbor\n",
    "Now we will build the best k-nearest neighbor model for each wearable.\n",
    "\n",
    "Since k-nearest neighbor calculates euclidean distance, scaling is vital and will be a part of the pipeline. Additionally, since this type of model is highly susceptible to the curse of dimensionality, we will add PCA dimensionality reduction to the pipeline.\n",
    "\n",
    "Since it is one of the more straightforward models, we will only tune one model hyperparameter, k, the number of neighbors to use in classification. We will also search for the best number of components for the PCA."
   ]
  },
  {
   "cell_type": "code",
   "execution_count": 37,
   "metadata": {},
   "outputs": [],
   "source": [
    "# define knn parameters to try\n",
    "knn_params = {'knn__n_neighbors': list(range(1, 41)),\n",
    "             'pca__n_components': list(range(1, 13))}"
   ]
  },
  {
   "cell_type": "markdown",
   "metadata": {},
   "source": [
    "### APPLE WATCH\n",
    "#### Generalization Accuracy"
   ]
  },
  {
   "cell_type": "code",
   "execution_count": 38,
   "metadata": {
    "scrolled": true
   },
   "outputs": [],
   "source": [
    "# create pipeline: scaling => pca => knn\n",
    "aw_knn_pipe = Pipeline(steps=[('scaler', StandardScaler()), ('pca', PCA()), ('knn', KNeighborsClassifier())])\n",
    "\n",
    "# create grid search\n",
    "aw_knn_grid = GridSearchCV(aw_knn_pipe, knn_params, cv=NUM_FOLDS, n_jobs=NUM_CORES)\n",
    "\n",
    "# get the cross val scores\n",
    "aw_knn_scores = cross_val_score(aw_knn_grid, X_aw, Y_aw, cv=NUM_FOLDS, n_jobs=NUM_CORES);"
   ]
  },
  {
   "cell_type": "code",
   "execution_count": 39,
   "metadata": {},
   "outputs": [
    {
     "name": "stdout",
     "output_type": "stream",
     "text": [
      "Generalization Accuracy of K-Nearest Neighbor (Apple Watch):\n",
      "0.266148\n"
     ]
    }
   ],
   "source": [
    "# get and print generalization accuracy\n",
    "aw_knn_acc = aw_knn_scores.mean()\n",
    "print(f'Generalization Accuracy of K-Nearest Neighbor (Apple Watch):\\n{aw_knn_acc:.6f}')\n",
    "\n",
    "# add accuracy to dictionary\n",
    "aw_accuracies['knn'] = aw_knn_acc"
   ]
  },
  {
   "cell_type": "markdown",
   "metadata": {},
   "source": [
    "#### Best Hyperparameters"
   ]
  },
  {
   "cell_type": "code",
   "execution_count": 40,
   "metadata": {},
   "outputs": [],
   "source": [
    "# find best parameters based on entire dataset\n",
    "aw_knn_grid.fit(X_aw, Y_aw);"
   ]
  },
  {
   "cell_type": "code",
   "execution_count": 41,
   "metadata": {},
   "outputs": [
    {
     "name": "stdout",
     "output_type": "stream",
     "text": [
      "Best KNN (Apple Watch) Hyperparameters for our Dataset:\n",
      "{'knn__n_neighbors': 25, 'pca__n_components': 6}\n"
     ]
    }
   ],
   "source": [
    "# print best hyperparameters\n",
    "print(f'Best KNN (Apple Watch) Hyperparameters for our Dataset:\\n{aw_knn_grid.best_params_}')"
   ]
  },
  {
   "cell_type": "markdown",
   "metadata": {},
   "source": [
    "### FITBIT\n",
    "#### Generalization Accuracy"
   ]
  },
  {
   "cell_type": "code",
   "execution_count": 42,
   "metadata": {},
   "outputs": [],
   "source": [
    "# create pipeline: scaling => pca => knn\n",
    "fb_knn_pipe = Pipeline(steps=[('scaler', StandardScaler()), ('pca', PCA()), ('knn', KNeighborsClassifier())])\n",
    "\n",
    "# create grid search\n",
    "fb_knn_grid = GridSearchCV(fb_knn_pipe, knn_params, cv=NUM_FOLDS, n_jobs=NUM_CORES)\n",
    "\n",
    "# get the cross val scores\n",
    "fb_knn_scores = cross_val_score(fb_knn_grid, X_fb, Y_fb, cv=NUM_FOLDS, n_jobs=NUM_CORES);"
   ]
  },
  {
   "cell_type": "code",
   "execution_count": 43,
   "metadata": {},
   "outputs": [
    {
     "name": "stdout",
     "output_type": "stream",
     "text": [
      "Generalization Accuracy of K-Nearest Neighbor (Fitbit):\n",
      "0.375748\n"
     ]
    }
   ],
   "source": [
    "# get and print generalization accuracy\n",
    "fb_knn_acc = fb_knn_scores.mean()\n",
    "print(f'Generalization Accuracy of K-Nearest Neighbor (Fitbit):\\n{fb_knn_acc:.6f}')\n",
    "\n",
    "# add accuracy to dictionary\n",
    "fb_accuracies['knn'] = fb_knn_acc"
   ]
  },
  {
   "cell_type": "markdown",
   "metadata": {},
   "source": [
    "#### Best Hyperparameters"
   ]
  },
  {
   "cell_type": "code",
   "execution_count": 44,
   "metadata": {},
   "outputs": [],
   "source": [
    "# find best parameters based on entire dataset\n",
    "fb_knn_grid.fit(X_fb, Y_fb);"
   ]
  },
  {
   "cell_type": "code",
   "execution_count": 45,
   "metadata": {},
   "outputs": [
    {
     "name": "stdout",
     "output_type": "stream",
     "text": [
      "Best KNN (Fitbit) Hyperparameters for our Dataset:\n",
      "{'knn__n_neighbors': 17, 'pca__n_components': 5}\n"
     ]
    }
   ],
   "source": [
    "# print best hyperparameters\n",
    "print(f'Best KNN (Fitbit) Hyperparameters for our Dataset:\\n{fb_knn_grid.best_params_}')"
   ]
  },
  {
   "cell_type": "markdown",
   "metadata": {},
   "source": [
    "Similar to the decision tree situation, we see a higher generalization accuracy for the KNN model that used the Fitbit data."
   ]
  },
  {
   "cell_type": "markdown",
   "metadata": {},
   "source": [
    "## 3. Naive Bayes\n",
    "Here we will build the best naive bayes model for each wearable.\n",
    "\n",
    "Since this model utilizes probability, the magnitudes of the features is irrelevant. Therefore, scaling is unnecessary and won't be performed here. Since Naive Bayes assumes that features are independent of each other, it would be helpful to utilize PCA dimensionality reduction. Then the features will be as uncorrelated as possible.\n",
    "\n",
    "As one of the simplest models we will be trying, there are no hyperparameters to tune for the model. We will be tuning the number of components to keep for the PCA."
   ]
  },
  {
   "cell_type": "code",
   "execution_count": 46,
   "metadata": {},
   "outputs": [],
   "source": [
    "# define nb parameters to try\n",
    "nb_params = {'pca__n_components': list(range(1, 13))}"
   ]
  },
  {
   "cell_type": "markdown",
   "metadata": {},
   "source": [
    "### APPLE WATCH\n",
    "#### Generalization Accuracy"
   ]
  },
  {
   "cell_type": "code",
   "execution_count": 47,
   "metadata": {},
   "outputs": [],
   "source": [
    "# create pipeline: pca => nb\n",
    "aw_nb_pipe = Pipeline(steps=[('pca', PCA()), ('nb', GaussianNB())])\n",
    "\n",
    "# create grid search\n",
    "aw_nb_grid = GridSearchCV(aw_nb_pipe, nb_params, cv=NUM_FOLDS, n_jobs=NUM_CORES)\n",
    "\n",
    "# get the cross val scores\n",
    "aw_nb_scores = cross_val_score(aw_nb_grid, X_aw, Y_aw, cv=NUM_FOLDS, n_jobs=NUM_CORES);"
   ]
  },
  {
   "cell_type": "code",
   "execution_count": 48,
   "metadata": {},
   "outputs": [
    {
     "name": "stdout",
     "output_type": "stream",
     "text": [
      "Generalization Accuracy of Naive Bayes (Apple Watch):\n",
      "0.278459\n"
     ]
    }
   ],
   "source": [
    "# get and print generalization accuracy\n",
    "aw_nb_acc = aw_nb_scores.mean()\n",
    "print(f'Generalization Accuracy of Naive Bayes (Apple Watch):\\n{aw_nb_acc:.6f}')\n",
    "\n",
    "# add accuracy to dictionary\n",
    "aw_accuracies['naive_bayes'] = aw_nb_acc"
   ]
  },
  {
   "cell_type": "markdown",
   "metadata": {},
   "source": [
    "#### Best Hyperparameters"
   ]
  },
  {
   "cell_type": "code",
   "execution_count": 49,
   "metadata": {},
   "outputs": [],
   "source": [
    "# find best parameters based on entire dataset\n",
    "aw_nb_grid.fit(X_aw, Y_aw);"
   ]
  },
  {
   "cell_type": "code",
   "execution_count": 50,
   "metadata": {},
   "outputs": [
    {
     "name": "stdout",
     "output_type": "stream",
     "text": [
      "Best Naive Bayes (Apple Watch) Hyperparameters for our Dataset:\n",
      "{'pca__n_components': 2}\n"
     ]
    }
   ],
   "source": [
    "# print best hyperparameters\n",
    "print(f'Best Naive Bayes (Apple Watch) Hyperparameters for our Dataset:\\n{aw_nb_grid.best_params_}')"
   ]
  },
  {
   "cell_type": "markdown",
   "metadata": {},
   "source": [
    "### FITBIT\n",
    "#### Generalization Accuracy"
   ]
  },
  {
   "cell_type": "code",
   "execution_count": 51,
   "metadata": {},
   "outputs": [],
   "source": [
    "# create pipeline: pca => nb\n",
    "fb_nb_pipe = Pipeline(steps=[('pca', PCA()), ('nb', GaussianNB())])\n",
    "\n",
    "# create grid search\n",
    "fb_nb_grid = GridSearchCV(fb_nb_pipe, nb_params, cv=NUM_FOLDS, n_jobs=NUM_CORES)\n",
    "\n",
    "# get the cross val scores\n",
    "fb_nb_scores = cross_val_score(fb_nb_grid, X_fb, Y_fb, cv=NUM_FOLDS, n_jobs=NUM_CORES);"
   ]
  },
  {
   "cell_type": "code",
   "execution_count": 52,
   "metadata": {},
   "outputs": [
    {
     "name": "stdout",
     "output_type": "stream",
     "text": [
      "Generalization Accuracy of Naive Bayes (Fitbit):\n",
      "0.363485\n"
     ]
    }
   ],
   "source": [
    "# get and print generalization accuracy\n",
    "fb_nb_acc = fb_nb_scores.mean()\n",
    "print(f'Generalization Accuracy of Naive Bayes (Fitbit):\\n{fb_nb_acc:.6f}')\n",
    "\n",
    "# add accuracy to dictionary\n",
    "fb_accuracies['naive_bayes'] = fb_nb_acc"
   ]
  },
  {
   "cell_type": "markdown",
   "metadata": {},
   "source": [
    "#### Best Hyperparameters"
   ]
  },
  {
   "cell_type": "code",
   "execution_count": 53,
   "metadata": {},
   "outputs": [],
   "source": [
    "# find best parameters based on entire dataset\n",
    "fb_nb_grid.fit(X_fb, Y_fb);"
   ]
  },
  {
   "cell_type": "code",
   "execution_count": 54,
   "metadata": {},
   "outputs": [
    {
     "name": "stdout",
     "output_type": "stream",
     "text": [
      "Best Naive Bayes (Fitbit) Hyperparameters for our Dataset:\n",
      "{'pca__n_components': 3}\n"
     ]
    }
   ],
   "source": [
    "# print best hyperparameters\n",
    "print(f'Best Naive Bayes (Fitbit) Hyperparameters for our Dataset:\\n{fb_nb_grid.best_params_}')"
   ]
  },
  {
   "cell_type": "markdown",
   "metadata": {},
   "source": [
    "Like the previous 2 models, we see higher accuracy with the Fitbit data, though the difference is a bit smaller here."
   ]
  },
  {
   "cell_type": "markdown",
   "metadata": {},
   "source": [
    "## 4. Support Vector Machines\n",
    "Now we will build the best support vector classifier for each wearable device.\n",
    "\n",
    "Since SVMs utilize distance in the creations of their boundaries, they are sensitive to differences in magnitude. Therefore, scaling will be used in the pipeline. PCA dimensionality reduction will not be used because we do not want to significant slow down the cross validation process.\n",
    "\n",
    "We will tune the kernel hyperparameter to determine the best way to project our data to higher dimensions to make it separable. We will test C values using a numpy logspace, while maintaining a reasonable running time. "
   ]
  },
  {
   "cell_type": "code",
   "execution_count": 55,
   "metadata": {},
   "outputs": [],
   "source": [
    "# define svc parameters to try\n",
    "svc_params = {'svc__kernel': ['linear', 'rbf', 'poly', 'sigmoid'],\n",
    "             'svc__C': np.logspace(-2, 1, 4)}"
   ]
  },
  {
   "cell_type": "markdown",
   "metadata": {},
   "source": [
    "### APPLE WATCH\n",
    "#### Generalization Accuracy"
   ]
  },
  {
   "cell_type": "code",
   "execution_count": 56,
   "metadata": {},
   "outputs": [],
   "source": [
    "# create pipeline: scaling => pca => svc\n",
    "aw_svc_pipe = Pipeline(steps=[('scaler', StandardScaler()), ('svc', SVC())])\n",
    "\n",
    "# create grid search\n",
    "aw_svc_grid = GridSearchCV(aw_svc_pipe, svc_params, cv=NUM_FOLDS, n_jobs=NUM_CORES)\n",
    "\n",
    "# get cross val scores\n",
    "aw_svc_scores = cross_val_score(aw_svc_grid, X_aw, Y_aw, cv=NUM_FOLDS, n_jobs=NUM_CORES);"
   ]
  },
  {
   "cell_type": "code",
   "execution_count": 57,
   "metadata": {},
   "outputs": [
    {
     "name": "stdout",
     "output_type": "stream",
     "text": [
      "Generalization Accuracy of SVM (Apple Watch):\n",
      "0.274902\n"
     ]
    }
   ],
   "source": [
    "# get and print generalization accuracy\n",
    "aw_svc_acc = aw_svc_scores.mean()\n",
    "print(f'Generalization Accuracy of SVM (Apple Watch):\\n{aw_svc_acc:.6f}')\n",
    "\n",
    "# add accuracy to dictionary\n",
    "aw_accuracies['svm'] = aw_svc_acc"
   ]
  },
  {
   "cell_type": "markdown",
   "metadata": {},
   "source": [
    "#### Best Hyperparameters"
   ]
  },
  {
   "cell_type": "code",
   "execution_count": 58,
   "metadata": {},
   "outputs": [],
   "source": [
    "# find best parameters based on entire dataset\n",
    "aw_svc_grid.fit(X_aw, Y_aw);"
   ]
  },
  {
   "cell_type": "code",
   "execution_count": 59,
   "metadata": {},
   "outputs": [
    {
     "name": "stdout",
     "output_type": "stream",
     "text": [
      "Best SVM (Apple Watch) Hyperparameters for our Dataset:\n",
      "{'svc__C': 0.01, 'svc__kernel': 'sigmoid'}\n"
     ]
    }
   ],
   "source": [
    "# print best hyperparameters\n",
    "print(f'Best SVM (Apple Watch) Hyperparameters for our Dataset:\\n{aw_svc_grid.best_params_}')"
   ]
  },
  {
   "cell_type": "markdown",
   "metadata": {},
   "source": [
    "### FITBIT\n",
    "#### Generalization Accuracy"
   ]
  },
  {
   "cell_type": "code",
   "execution_count": 60,
   "metadata": {},
   "outputs": [],
   "source": [
    "# create pipeline: scaling => pca => svc\n",
    "fb_svc_pipe = Pipeline(steps=[('scaler', StandardScaler()), ('svc', SVC())])\n",
    "\n",
    "# create grid search\n",
    "fb_svc_grid = GridSearchCV(fb_svc_pipe, svc_params, cv=NUM_FOLDS, n_jobs=NUM_CORES)\n",
    "\n",
    "# get cross val scores\n",
    "fb_svc_scores = cross_val_score(fb_svc_grid, X_fb, Y_fb, cv=NUM_FOLDS, n_jobs=NUM_CORES);"
   ]
  },
  {
   "cell_type": "code",
   "execution_count": 61,
   "metadata": {},
   "outputs": [
    {
     "name": "stdout",
     "output_type": "stream",
     "text": [
      "Generalization Accuracy of SVM (Fitbit):\n",
      "0.401444\n"
     ]
    }
   ],
   "source": [
    "# get and print generalization accuracy\n",
    "fb_svc_acc = fb_svc_scores.mean()\n",
    "print(f'Generalization Accuracy of SVM (Fitbit):\\n{fb_svc_acc:.6f}')\n",
    "\n",
    "# add accuracy to dictionary\n",
    "fb_accuracies['svm'] = fb_svc_acc"
   ]
  },
  {
   "cell_type": "markdown",
   "metadata": {},
   "source": [
    "#### Best Hyperparameters"
   ]
  },
  {
   "cell_type": "code",
   "execution_count": 62,
   "metadata": {},
   "outputs": [],
   "source": [
    "# find best parameters based on entire dataset\n",
    "fb_svc_grid.fit(X_fb, Y_fb);"
   ]
  },
  {
   "cell_type": "code",
   "execution_count": 63,
   "metadata": {},
   "outputs": [
    {
     "name": "stdout",
     "output_type": "stream",
     "text": [
      "Best SVM (Fitbit) Hyperparameters for our Dataset:\n",
      "{'svc__C': 10.0, 'svc__kernel': 'rbf'}\n"
     ]
    }
   ],
   "source": [
    "# print best hyperparameters\n",
    "print(f'Best SVM (Fitbit) Hyperparameters for our Dataset:\\n{fb_svc_grid.best_params_}')"
   ]
  },
  {
   "cell_type": "markdown",
   "metadata": {},
   "source": [
    "As with the last 3 models, the model that used Fitbit data has a significantly higher accuracy."
   ]
  },
  {
   "cell_type": "markdown",
   "metadata": {},
   "source": [
    "## 5. Artificial Neural Network\n",
    "Now we will build the best neural net, specifically multilayer perceptron, for each device.\n",
    "\n",
    "This type of neural net is sensitive to magnitude, so scaling will be utilized in the pipeline. Since a neural net like this is good at determining the importance of features on its own, dimensionality reduction will not be used.\n",
    "\n",
    "We will test several combinations of hidden layers and nodes, as well as several different activation functions."
   ]
  },
  {
   "cell_type": "code",
   "execution_count": 64,
   "metadata": {},
   "outputs": [],
   "source": [
    "# define mlp parameters to try\n",
    "mlp_params = {'mlp__hidden_layer_sizes': [(10,), (20,), (30,), (40,), (50,), (60,), (30, 30), (40, 40)],\n",
    "             'mlp__activation': ['logistic', 'tanh', 'relu']}"
   ]
  },
  {
   "cell_type": "markdown",
   "metadata": {},
   "source": [
    "### APPLE WATCH\n",
    "#### Generalization Accuracy"
   ]
  },
  {
   "cell_type": "code",
   "execution_count": 65,
   "metadata": {
    "scrolled": true
   },
   "outputs": [],
   "source": [
    "# create pipeline: scaler => mlp\n",
    "aw_mlp_pipe = Pipeline(steps=[('scaler', StandardScaler()), ('mlp', MLPClassifier())])\n",
    "\n",
    "# create grid search\n",
    "aw_mlp_grid = GridSearchCV(aw_mlp_pipe, mlp_params, cv=NUM_FOLDS, n_jobs=NUM_CORES)\n",
    "\n",
    "# get cross val scores\n",
    "aw_mlp_scores = cross_val_score(aw_mlp_grid, X_aw, Y_aw, cv=NUM_FOLDS, n_jobs=NUM_CORES);"
   ]
  },
  {
   "cell_type": "code",
   "execution_count": 66,
   "metadata": {},
   "outputs": [
    {
     "name": "stdout",
     "output_type": "stream",
     "text": [
      "Generalization Accuracy of MLP (Apple Watch):\n",
      "0.259580\n"
     ]
    }
   ],
   "source": [
    "# get and print generalization accuracy\n",
    "aw_mlp_acc = aw_mlp_scores.mean()\n",
    "print(f'Generalization Accuracy of MLP (Apple Watch):\\n{aw_mlp_acc:.6f}')\n",
    "\n",
    "# add accuracy to dictionary\n",
    "aw_accuracies['neural_net'] = aw_mlp_acc"
   ]
  },
  {
   "cell_type": "markdown",
   "metadata": {},
   "source": [
    "#### Best Hyperparameters"
   ]
  },
  {
   "cell_type": "code",
   "execution_count": 67,
   "metadata": {},
   "outputs": [],
   "source": [
    "# find best hyperparameters based on entire dataset\n",
    "aw_mlp_grid.fit(X_aw, Y_aw);"
   ]
  },
  {
   "cell_type": "code",
   "execution_count": 68,
   "metadata": {},
   "outputs": [
    {
     "name": "stdout",
     "output_type": "stream",
     "text": [
      "Best MLP (Apple Watch) Hyperparameters for our Dataset:\n",
      "{'mlp__activation': 'logistic', 'mlp__hidden_layer_sizes': (30,)}\n"
     ]
    }
   ],
   "source": [
    "# print best hyperparameters\n",
    "print(f'Best MLP (Apple Watch) Hyperparameters for our Dataset:\\n{aw_mlp_grid.best_params_}')"
   ]
  },
  {
   "cell_type": "markdown",
   "metadata": {},
   "source": [
    "### FITBIT\n",
    "#### Generalization Accuracy"
   ]
  },
  {
   "cell_type": "code",
   "execution_count": 69,
   "metadata": {},
   "outputs": [],
   "source": [
    "# create pipeline: scaler => mlp\n",
    "fb_mlp_pipe = Pipeline(steps=[('scaler', StandardScaler()), ('mlp', MLPClassifier())])\n",
    "\n",
    "# create grid search\n",
    "fb_mlp_grid = GridSearchCV(fb_mlp_pipe, mlp_params, cv=NUM_FOLDS, n_jobs=NUM_CORES)\n",
    "\n",
    "# get cross val scores\n",
    "fb_mlp_scores = cross_val_score(fb_mlp_grid, X_fb, Y_fb, cv=NUM_FOLDS, n_jobs=NUM_CORES);"
   ]
  },
  {
   "cell_type": "code",
   "execution_count": 70,
   "metadata": {},
   "outputs": [
    {
     "name": "stdout",
     "output_type": "stream",
     "text": [
      "Generalization Accuracy of MLP (Fitbit):\n",
      "0.530985\n"
     ]
    }
   ],
   "source": [
    "# get and print generalization accuracy\n",
    "fb_mlp_acc = fb_mlp_scores.mean()\n",
    "print(f'Generalization Accuracy of MLP (Fitbit):\\n{fb_mlp_acc:.6f}')\n",
    "\n",
    "# add accuracy to dictionary\n",
    "fb_accuracies['neural_net'] = fb_mlp_acc"
   ]
  },
  {
   "cell_type": "markdown",
   "metadata": {},
   "source": [
    "#### Best Hyperparameters"
   ]
  },
  {
   "cell_type": "code",
   "execution_count": 71,
   "metadata": {},
   "outputs": [],
   "source": [
    "# find best hyperparameters based on entire dataset\n",
    "fb_mlp_grid.fit(X_fb, Y_fb);"
   ]
  },
  {
   "cell_type": "code",
   "execution_count": 72,
   "metadata": {},
   "outputs": [
    {
     "name": "stdout",
     "output_type": "stream",
     "text": [
      "Best MLP (Fitbit) Hyperparameters for our Dataset:\n",
      "{'mlp__activation': 'tanh', 'mlp__hidden_layer_sizes': (40, 40)}\n"
     ]
    }
   ],
   "source": [
    "# print best hyperparameters\n",
    "print(f'Best MLP (Fitbit) Hyperparameters for our Dataset:\\n{fb_mlp_grid.best_params_}')"
   ]
  },
  {
   "cell_type": "markdown",
   "metadata": {},
   "source": [
    "Here, the model that used Fitbit data is significantly higher than the other. This is similar to the decision tree models."
   ]
  },
  {
   "cell_type": "markdown",
   "metadata": {},
   "source": [
    "## End Comparision\n",
    "For both devices, the decision tree is the best model based on generalization accuracy. Since the decision trees are showing promise here, an ensemble method such as random forest could be the best type of model for our data. Various ensemble methods will be explored in the next section of our analysis."
   ]
  },
  {
   "cell_type": "markdown",
   "metadata": {},
   "source": [
    "### APPLE WATCH\n",
    "For the Apple Watch, all of our accuracies are quite low, so these models are not useful."
   ]
  },
  {
   "cell_type": "code",
   "execution_count": 73,
   "metadata": {},
   "outputs": [
    {
     "data": {
      "text/html": [
       "<div>\n",
       "<style scoped>\n",
       "    .dataframe tbody tr th:only-of-type {\n",
       "        vertical-align: middle;\n",
       "    }\n",
       "\n",
       "    .dataframe tbody tr th {\n",
       "        vertical-align: top;\n",
       "    }\n",
       "\n",
       "    .dataframe thead th {\n",
       "        text-align: right;\n",
       "    }\n",
       "</style>\n",
       "<table border=\"1\" class=\"dataframe\">\n",
       "  <thead>\n",
       "    <tr style=\"text-align: right;\">\n",
       "      <th></th>\n",
       "      <th>accuracy</th>\n",
       "    </tr>\n",
       "  </thead>\n",
       "  <tbody>\n",
       "    <tr>\n",
       "      <th>decision_tree</th>\n",
       "      <td>0.290229</td>\n",
       "    </tr>\n",
       "    <tr>\n",
       "      <th>naive_bayes</th>\n",
       "      <td>0.278459</td>\n",
       "    </tr>\n",
       "    <tr>\n",
       "      <th>svm</th>\n",
       "      <td>0.274902</td>\n",
       "    </tr>\n",
       "    <tr>\n",
       "      <th>knn</th>\n",
       "      <td>0.266148</td>\n",
       "    </tr>\n",
       "    <tr>\n",
       "      <th>neural_net</th>\n",
       "      <td>0.259580</td>\n",
       "    </tr>\n",
       "  </tbody>\n",
       "</table>\n",
       "</div>"
      ],
      "text/plain": [
       "               accuracy\n",
       "decision_tree  0.290229\n",
       "naive_bayes    0.278459\n",
       "svm            0.274902\n",
       "knn            0.266148\n",
       "neural_net     0.259580"
      ]
     },
     "execution_count": 73,
     "metadata": {},
     "output_type": "execute_result"
    }
   ],
   "source": [
    "# convert dictionary to dataframe for nicer looking print\n",
    "aw_acc_df = pd.DataFrame.from_dict(aw_accuracies, orient='index', columns=['accuracy'])\n",
    "aw_acc_df.sort_values(by='accuracy', ascending=False, inplace=True)\n",
    "aw_acc_df.head(n=5)"
   ]
  },
  {
   "cell_type": "markdown",
   "metadata": {},
   "source": [
    "### FITBIT\n",
    "Across the board, generalization accuracies were better with Fitbit data. The Fitbit decision tree was the only model in our analysis that had a strong enough performance to be useful, with a generalization accuracy of about 74%. As mentioned previously, this strong showing might indicate that an ensemble such as random forest could be best for our data."
   ]
  },
  {
   "cell_type": "code",
   "execution_count": 74,
   "metadata": {},
   "outputs": [
    {
     "data": {
      "text/html": [
       "<div>\n",
       "<style scoped>\n",
       "    .dataframe tbody tr th:only-of-type {\n",
       "        vertical-align: middle;\n",
       "    }\n",
       "\n",
       "    .dataframe tbody tr th {\n",
       "        vertical-align: top;\n",
       "    }\n",
       "\n",
       "    .dataframe thead th {\n",
       "        text-align: right;\n",
       "    }\n",
       "</style>\n",
       "<table border=\"1\" class=\"dataframe\">\n",
       "  <thead>\n",
       "    <tr style=\"text-align: right;\">\n",
       "      <th></th>\n",
       "      <th>accuracy</th>\n",
       "    </tr>\n",
       "  </thead>\n",
       "  <tbody>\n",
       "    <tr>\n",
       "      <th>decision_tree</th>\n",
       "      <td>0.738811</td>\n",
       "    </tr>\n",
       "    <tr>\n",
       "      <th>neural_net</th>\n",
       "      <td>0.530985</td>\n",
       "    </tr>\n",
       "    <tr>\n",
       "      <th>svm</th>\n",
       "      <td>0.401444</td>\n",
       "    </tr>\n",
       "    <tr>\n",
       "      <th>knn</th>\n",
       "      <td>0.375748</td>\n",
       "    </tr>\n",
       "    <tr>\n",
       "      <th>naive_bayes</th>\n",
       "      <td>0.363485</td>\n",
       "    </tr>\n",
       "  </tbody>\n",
       "</table>\n",
       "</div>"
      ],
      "text/plain": [
       "               accuracy\n",
       "decision_tree  0.738811\n",
       "neural_net     0.530985\n",
       "svm            0.401444\n",
       "knn            0.375748\n",
       "naive_bayes    0.363485"
      ]
     },
     "execution_count": 74,
     "metadata": {},
     "output_type": "execute_result"
    }
   ],
   "source": [
    "# convert dictionary to dataframe for nicer looking print\n",
    "fb_acc_df = pd.DataFrame.from_dict(fb_accuracies, orient='index', columns=['accuracy'])\n",
    "fb_acc_df.sort_values(by='accuracy', ascending=False, inplace=True)\n",
    "fb_acc_df.head(n=5)"
   ]
  },
  {
   "cell_type": "markdown",
   "metadata": {},
   "source": [
    "# Ensembles\n",
    "Now that we have found the best singular model, we will now see how well these models fair under different ensemble methods. We will only keep models that have accuracies better than 50%"
   ]
  },
  {
   "cell_type": "code",
   "execution_count": 28,
   "metadata": {},
   "outputs": [],
   "source": [
    "#store accuracies\n",
    "aw_en_accuracies = dict()\n",
    "fb_en_accuracies = dict()"
   ]
  },
  {
   "cell_type": "markdown",
   "metadata": {},
   "source": [
    "# Homogenous"
   ]
  },
  {
   "cell_type": "markdown",
   "metadata": {},
   "source": [
    "## 1. Bagging"
   ]
  },
  {
   "cell_type": "markdown",
   "metadata": {},
   "source": [
    "### APPLE WATCH\n",
    "We choose the naive bays as the base estimator for apple watch to do bagging ensemble, which has a relativly high accuracy than other base models."
   ]
  },
  {
   "cell_type": "code",
   "execution_count": 76,
   "metadata": {
    "scrolled": true
   },
   "outputs": [
    {
     "name": "stdout",
     "output_type": "stream",
     "text": [
      "Accuracy: 0.2852993503920821\n"
     ]
    }
   ],
   "source": [
    "# choose the base classifier \n",
    "aw_base_cls = aw_nb_pipe\n",
    "aw_bc = BaggingClassifier(base_estimator = aw_base_cls)\n",
    "\n",
    "#set gridsearch params\n",
    "param_grid = {'base_estimator__pca__n_components': list(range(1, 13))}\n",
    "\n",
    "aw_bc_grid = GridSearchCV(aw_bc, param_grid, cv =5)\n",
    "\n",
    "#print(\"Best:\", grid_search.best_params_)\n",
    "scores = cross_val_score(aw_bc_grid, X_aw, Y_aw, cv=5)\n",
    "\n",
    "#fit\n",
    "aw_bc_grid.fit(X_aw, Y_aw)\n",
    "\n",
    "aw_bc_acc = scores.mean()\n",
    "print(\"Accuracy:\", scores.mean())\n"
   ]
  },
  {
   "cell_type": "code",
   "execution_count": 77,
   "metadata": {},
   "outputs": [],
   "source": [
    "#add to dic\n",
    "aw_en_accuracies['Bagging_NB'] = aw_bc_acc"
   ]
  },
  {
   "cell_type": "markdown",
   "metadata": {},
   "source": [
    "### FITBIT\n",
    "We choose decision tree as the base estimator because it obviously has the highest accuracy among all the base model."
   ]
  },
  {
   "cell_type": "code",
   "execution_count": 31,
   "metadata": {},
   "outputs": [
    {
     "name": "stdout",
     "output_type": "stream",
     "text": [
      "Accuracy: 0.7575977526272053\n"
     ]
    }
   ],
   "source": [
    "# decision tree\n",
    "\n",
    "# choose the base classifier \n",
    "fb_base_cls = DecisionTreeClassifier(criterion = 'entropy', max_depth = 10)\n",
    "fb_bc = BaggingClassifier(base_estimator = fb_base_cls)\n",
    "#print(aw_bc.get_params())\n",
    "#set gridsearch params\n",
    "param_grid = {'base_estimator__min_samples_leaf': list(range(5, 21, 5)),\n",
    "              'base_estimator__max_features': list(range(4, 14,2))}\n",
    "\n",
    "fb_bc_grid = GridSearchCV(fb_bc, param_grid, cv =5)\n",
    "fb_bc_grid.fit(X_fb, Y_fb)\n",
    "\n",
    "scores = cross_val_score(fb_bc_grid, X_fb, Y_fb, cv=5)\n",
    "fb_bc_acc = scores.mean()\n",
    "print(\"Accuracy:\", scores.mean())"
   ]
  },
  {
   "cell_type": "code",
   "execution_count": 80,
   "metadata": {},
   "outputs": [],
   "source": [
    "#add to dic\n",
    "fb_en_accuracies['Bagging_DT'] = fb_bc_acc"
   ]
  },
  {
   "cell_type": "markdown",
   "metadata": {},
   "source": [
    "## 2. Randomized Forest\n",
    "For the randomized forest ensemble, we don't need a base estimator. So we use a grid search to find the best hyperparamitors. As for the candidate paramitors, we used best params from the decision tree, for both apple watch and fitbit."
   ]
  },
  {
   "cell_type": "markdown",
   "metadata": {},
   "source": [
    "### APPLE WATCH"
   ]
  },
  {
   "cell_type": "code",
   "execution_count": 81,
   "metadata": {
    "scrolled": true
   },
   "outputs": [
    {
     "name": "stdout",
     "output_type": "stream",
     "text": [
      "Accuracy: 0.33126826788664376\n"
     ]
    }
   ],
   "source": [
    "aw_rf = RandomForestClassifier()\n",
    "\n",
    "param_grid = {'max_features': ['sqrt', 'log2'],\n",
    "              'max_depth': list(range(5,15,2)),\n",
    "              'min_samples_leaf': [8,10,12]}\n",
    "\n",
    "aw_rf_grid = GridSearchCV(aw_rf, param_grid, cv =5)\n",
    "\n",
    "scores = cross_val_score(aw_rf_grid, X_aw, Y_aw, cv=5)\n",
    "aw_rf_grid.fit(X_aw, Y_aw)\n",
    "aw_rf_acc = scores.mean()\n",
    "print(\"Accuracy:\", aw_rf_acc)"
   ]
  },
  {
   "cell_type": "code",
   "execution_count": 82,
   "metadata": {},
   "outputs": [],
   "source": [
    "#add to dic\n",
    "aw_en_accuracies['RF'] = aw_rf_acc"
   ]
  },
  {
   "cell_type": "markdown",
   "metadata": {},
   "source": [
    "### FITBIT"
   ]
  },
  {
   "cell_type": "code",
   "execution_count": 83,
   "metadata": {},
   "outputs": [
    {
     "name": "stdout",
     "output_type": "stream",
     "text": [
      "Accuracy: 0.7537604518278289\n"
     ]
    }
   ],
   "source": [
    "fb_rf = RandomForestClassifier(criterion = 'entropy')\n",
    "\n",
    "param_grid = {'max_features': ['auto','sqrt', 'log2'],\n",
    "              'max_depth': list(range(5,15,2)),\n",
    "              'min_samples_leaf': list(range(5,16,2))}\n",
    "\n",
    "fb_rf_grid = GridSearchCV(fb_rf, param_grid, cv =5)\n",
    "\n",
    "scores = cross_val_score(fb_rf_grid, X_fb, Y_fb, cv=5)\n",
    "fb_rf_grid.fit(X_fb, Y_fb)\n",
    "fb_rf_acc = scores.mean()\n",
    "print(\"Accuracy:\", fb_rf_acc)"
   ]
  },
  {
   "cell_type": "code",
   "execution_count": 84,
   "metadata": {},
   "outputs": [],
   "source": [
    "#add to dic\n",
    "fb_en_accuracies['RF'] = fb_rf_acc"
   ]
  },
  {
   "cell_type": "markdown",
   "metadata": {},
   "source": [
    "## 3. Extremely Randomized Trees\n",
    "Similar to the randomized forest ensemble, we don't need a base estimator for extremely randomized trees. So we use a grid search to find the best hyperparamitors. As for the candidate paramitors, we used best params from the decision tree again, for both apple watch and fitbit."
   ]
  },
  {
   "cell_type": "markdown",
   "metadata": {},
   "source": [
    "### APPLE WATCH"
   ]
  },
  {
   "cell_type": "markdown",
   "metadata": {},
   "source": [
    "\n"
   ]
  },
  {
   "cell_type": "code",
   "execution_count": 85,
   "metadata": {
    "scrolled": true
   },
   "outputs": [
    {
     "name": "stdout",
     "output_type": "stream",
     "text": [
      "Accuracy: 0.29022186838898734\n"
     ]
    }
   ],
   "source": [
    "aw_etc = ExtraTreesClassifier()\n",
    "\n",
    "param_grid = {'criterion':['gini', 'entropy'],\n",
    "              'max_features': ['sqrt', 'log2','auto'],\n",
    "              'max_depth': list(range(5,15,2)),\n",
    "              'min_samples_leaf': [8,10,12]}\n",
    "\n",
    "aw_etc_grid = GridSearchCV(aw_etc, param_grid, cv =5)\n",
    "\n",
    "scores = cross_val_score(aw_etc_grid, X_aw, Y_aw, cv=5)\n",
    "aw_etc_grid.fit(X_aw, Y_aw)\n",
    "aw_etc_acc = scores.mean()\n",
    "print(\"Accuracy:\", aw_etc_acc)\n"
   ]
  },
  {
   "cell_type": "code",
   "execution_count": 86,
   "metadata": {},
   "outputs": [],
   "source": [
    "#add to dict\n",
    "aw_en_accuracies['ETC'] = aw_etc_acc"
   ]
  },
  {
   "cell_type": "markdown",
   "metadata": {},
   "source": [
    "### FITBIT"
   ]
  },
  {
   "cell_type": "markdown",
   "metadata": {},
   "source": []
  },
  {
   "cell_type": "code",
   "execution_count": 87,
   "metadata": {},
   "outputs": [
    {
     "name": "stdout",
     "output_type": "stream",
     "text": [
      "Accuracy: 0.5406314117413462\n"
     ]
    }
   ],
   "source": [
    "fb_etc = ExtraTreesClassifier()\n",
    "\n",
    "param_grid = {'criterion':['gini', 'entropy'],\n",
    "              'max_features': ['sqrt', 'log2','auto'],\n",
    "              'max_depth': list(range(5,15,2)),\n",
    "              'min_samples_leaf': [8,10,12]}\n",
    "\n",
    "fb_etc_grid = GridSearchCV(fb_etc, param_grid, cv =5)\n",
    "\n",
    "scores = cross_val_score(fb_etc_grid, X_fb, Y_fb, cv=5)\n",
    "fb_etc_grid.fit(X_fb,Y_fb)\n",
    "fb_etc_acc = scores.mean()\n",
    "print(\"Accuracy:\", fb_etc_acc)"
   ]
  },
  {
   "cell_type": "code",
   "execution_count": 88,
   "metadata": {},
   "outputs": [],
   "source": [
    "#add to dict\n",
    "fb_en_accuracies['ETC'] = fb_etc_acc"
   ]
  },
  {
   "cell_type": "markdown",
   "metadata": {},
   "source": [
    "## 4. Boosting\n"
   ]
  },
  {
   "cell_type": "markdown",
   "metadata": {},
   "source": [
    "### APPLE WATCH\n",
    "Naive bays and decision tree has very close highest accuracies for apple watch prediction, so we did adaboosing on both base estimator models with a grid search to find the best params."
   ]
  },
  {
   "cell_type": "code",
   "execution_count": 89,
   "metadata": {},
   "outputs": [
    {
     "name": "stdout",
     "output_type": "stream",
     "text": [
      "Accuracy: 0.19282590657307527\n"
     ]
    }
   ],
   "source": [
    "# choose the base classifier \n",
    "aw_base_cls = GaussianNB()\n",
    "aw_abc = AdaBoostClassifier(base_estimator = aw_base_cls)\n",
    "\n",
    "#set gridsearch params\n",
    "param_grid = {'n_estimators': list(range(10,101,10))}\n",
    "\n",
    "aw_abc_grid = GridSearchCV(aw_abc, param_grid, cv =5)\n",
    "\n",
    "#print(\"Best:\", grid_search.best_params_)\n",
    "scores = cross_val_score(aw_abc_grid, X_aw, Y_aw, cv=5)\n",
    "aw_abc_grid.fit(X_aw, Y_aw)\n",
    "aw_abc_nb_acc = scores.mean()\n",
    "print(\"Accuracy:\", scores.mean())"
   ]
  },
  {
   "cell_type": "code",
   "execution_count": 90,
   "metadata": {},
   "outputs": [],
   "source": [
    "#add to dict\n",
    "aw_en_accuracies['ABC_nb'] = aw_abc_nb_acc"
   ]
  },
  {
   "cell_type": "code",
   "execution_count": 33,
   "metadata": {},
   "outputs": [
    {
     "name": "stdout",
     "output_type": "stream",
     "text": [
      "Accuracy: 0.3367432142510073\n"
     ]
    }
   ],
   "source": [
    "# decision tree\n",
    "# choose the base classifier \n",
    "aw_base_cls = DecisionTreeClassifier(criterion = 'gini', max_depth = 10)\n",
    "aw_abc = AdaBoostClassifier(base_estimator = aw_base_cls)\n",
    "\n",
    "#set gridsearch params\n",
    "param_grid = {'base_estimator__min_samples_leaf': list(range(5, 21, 5)),\n",
    "              'base_estimator__max_features': list(range(4, 14,2))}\n",
    "\n",
    "aw_abc_tree_grid = GridSearchCV(aw_abc, param_grid, cv =5)\n",
    "\n",
    "scores = cross_val_score(aw_abc_tree_grid, X_aw, Y_aw, cv=5)\n",
    "aw_abc_tree_grid.fit(X_aw, Y_aw)\n",
    "aw_abc_dt_acc = scores.mean()\n",
    "print(\"Accuracy:\", scores.mean())"
   ]
  },
  {
   "cell_type": "code",
   "execution_count": 92,
   "metadata": {},
   "outputs": [],
   "source": [
    "#add to dict\n",
    "aw_en_accuracies['ABC_dt'] = aw_abc_dt_acc"
   ]
  },
  {
   "cell_type": "markdown",
   "metadata": {},
   "source": [
    "### FITBIT\n",
    "Decision tree has the highest accuracies for fitbit prediction, so we did adaboosing using decision tree as the base estimatot with a grid search to find the best params."
   ]
  },
  {
   "cell_type": "code",
   "execution_count": 94,
   "metadata": {},
   "outputs": [
    {
     "name": "stdout",
     "output_type": "stream",
     "text": [
      "Accuracy: 0.7357513181988661\n"
     ]
    }
   ],
   "source": [
    "# decision tree\n",
    "\n",
    "# choose the base classifier \n",
    "fb_base_cls = DecisionTreeClassifier(criterion = 'entropy', max_depth = 10)\n",
    "fb_abc = AdaBoostClassifier(base_estimator = fb_base_cls)\n",
    "\n",
    "#set gridsearch params\n",
    "param_grid = {'base_estimator__min_samples_leaf': list(range(5, 21, 5)),\n",
    "              'base_estimator__max_features': list(range(4, 14,2))}\n",
    "\n",
    "fb_abc_tree_grid = GridSearchCV(fb_abc, param_grid, cv =5)\n",
    "\n",
    "scores = cross_val_score(fb_abc_tree_grid, X_fb, Y_fb, cv=5)\n",
    "fb_abc_tree_grid.fit(X_fb, Y_fb)\n",
    "fb_abc_dt_acc = scores.mean()\n",
    "print(\"Accuracy:\", scores.mean())"
   ]
  },
  {
   "cell_type": "code",
   "execution_count": 95,
   "metadata": {},
   "outputs": [],
   "source": [
    "#add to dict\n",
    "fb_en_accuracies['ABC_dt'] = fb_abc_dt_acc"
   ]
  },
  {
   "cell_type": "markdown",
   "metadata": {},
   "source": [
    "## 5. Multiclass Partioning\n",
    "This is where we will use both homogenous and heterogenous models to determine the best ensemble for multiclass partioning"
   ]
  },
  {
   "cell_type": "markdown",
   "metadata": {},
   "source": [
    "### APPLE WATCH\n",
    "The best models we choose from above are naive bays and decision tree as the estimator."
   ]
  },
  {
   "cell_type": "markdown",
   "metadata": {},
   "source": [
    "### one vs rest"
   ]
  },
  {
   "cell_type": "code",
   "execution_count": 96,
   "metadata": {
    "scrolled": true
   },
   "outputs": [
    {
     "name": "stdout",
     "output_type": "stream",
     "text": [
      "Accuracy: 0.2803787012326852\n"
     ]
    }
   ],
   "source": [
    "# using naive bays\n",
    "from sklearn.multiclass import OneVsRestClassifier\n",
    "\n",
    "aw_base = GaussianNB()\n",
    "aw_ovr = OneVsRestClassifier(estimator = aw_base)\n",
    "\n",
    "param_grid = {'n_jobs': [1, -1]}\n",
    "\n",
    "aw_ovr_grid = GridSearchCV(aw_ovr, param_grid, cv = 5)\n",
    "\n",
    "scores = cross_val_score(aw_ovr_grid, X_aw, Y_aw, cv = 5)\n",
    "aw_ovr_grid.fit(X_aw, Y_aw)\n",
    "aw_ovr_nb_acc = scores.mean()\n",
    "print('Accuracy:', aw_ovr_nb_acc)\n"
   ]
  },
  {
   "cell_type": "code",
   "execution_count": 97,
   "metadata": {},
   "outputs": [],
   "source": [
    "#add to dict\n",
    "aw_en_accuracies['MP_ovr_nb'] = aw_ovr_nb_acc"
   ]
  },
  {
   "cell_type": "code",
   "execution_count": 98,
   "metadata": {},
   "outputs": [
    {
     "name": "stdout",
     "output_type": "stream",
     "text": [
      "Accuracy: 0.31594865929597155\n"
     ]
    }
   ],
   "source": [
    "# decision tree\n",
    "aw_base = DecisionTreeClassifier(criterion = 'gini', max_depth = 10)\n",
    "aw_ovr_dt = OneVsRestClassifier(estimator = aw_base)\n",
    "\n",
    "param_grid = {'estimator__min_samples_leaf': list(range(5, 21, 5)),\n",
    "              'estimator__max_features': list(range(4, 14,2))}\n",
    "\n",
    "aw_ovr_tree_grid = GridSearchCV(aw_ovr_dt, param_grid, cv = 5)\n",
    "\n",
    "scores = cross_val_score(aw_ovr_tree_grid, X_aw, Y_aw, cv = 5)\n",
    "aw_ovr_tree_grid.fit(X_aw, Y_aw)\n",
    "aw_ovr_dt_acc = scores.mean()\n",
    "print('Accuracy:', aw_ovr_dt_acc)"
   ]
  },
  {
   "cell_type": "code",
   "execution_count": 99,
   "metadata": {},
   "outputs": [],
   "source": [
    "#add to dict\n",
    "aw_en_accuracies['MP_ovr_dt'] = aw_ovr_dt_acc"
   ]
  },
  {
   "cell_type": "markdown",
   "metadata": {},
   "source": [
    "### one to one"
   ]
  },
  {
   "cell_type": "code",
   "execution_count": 100,
   "metadata": {},
   "outputs": [
    {
     "name": "stdout",
     "output_type": "stream",
     "text": [
      "Accuracy: 0.34739409297840373\n"
     ]
    }
   ],
   "source": [
    "# decision tree\n",
    "from sklearn.multiclass import OneVsOneClassifier\n",
    "\n",
    "aw_base = DecisionTreeClassifier(criterion = 'gini', max_depth = 10)\n",
    "aw_ovo_dt = OneVsOneClassifier(estimator = aw_base)\n",
    "\n",
    "param_grid = {'estimator__min_samples_leaf': list(range(5, 21, 5)),\n",
    "              'estimator__max_features': list(range(4, 14,2))}\n",
    "\n",
    "aw_ovo_tree_grid = GridSearchCV(aw_ovo_dt, param_grid, cv = 5)\n",
    "\n",
    "scores = cross_val_score(aw_ovo_tree_grid, X_aw, Y_aw, cv = 5)\n",
    "aw_ovo_tree_grid.fit(X_aw, Y_aw)\n",
    "aw_ovo_dt_acc = scores.mean()\n",
    "print('Accuracy:', aw_ovo_dt_acc)\n"
   ]
  },
  {
   "cell_type": "code",
   "execution_count": 101,
   "metadata": {},
   "outputs": [],
   "source": [
    "# add to dict\n",
    "aw_en_accuracies['MP_ovo_dt'] = aw_ovo_dt_acc"
   ]
  },
  {
   "cell_type": "markdown",
   "metadata": {},
   "source": [
    "### FITBIT\n",
    "The best model we choose from above is decision tree as the estimator."
   ]
  },
  {
   "cell_type": "markdown",
   "metadata": {},
   "source": [
    "### one vs rest"
   ]
  },
  {
   "cell_type": "code",
   "execution_count": 102,
   "metadata": {},
   "outputs": [
    {
     "name": "stdout",
     "output_type": "stream",
     "text": [
      "Accuracy: 0.7399651421889823\n"
     ]
    }
   ],
   "source": [
    "# decision tree\n",
    "fb_base = DecisionTreeClassifier(criterion = 'entropy', max_depth = 10)\n",
    "fb_ovr_dt = OneVsRestClassifier(estimator = fb_base)\n",
    "\n",
    "param_grid = {'estimator__min_samples_leaf': list(range(5, 21, 5)),\n",
    "              'estimator__max_features': list(range(4, 14,2))}\n",
    "\n",
    "fb_ovr_tree_grid = GridSearchCV(fb_ovr_dt, param_grid, cv = 5)\n",
    "\n",
    "scores = cross_val_score(fb_ovr_tree_grid, X_fb, Y_fb, cv = 5)\n",
    "fb_ovr_tree_grid.fit(X_fb, Y_fb)\n",
    "fb_ovr_dt_acc = scores.mean()\n",
    "print('Accuracy:', fb_ovr_dt_acc)"
   ]
  },
  {
   "cell_type": "code",
   "execution_count": 103,
   "metadata": {},
   "outputs": [],
   "source": [
    "#add to dict\n",
    "fb_en_accuracies['MP_ovr_dt'] = fb_ovr_dt_acc"
   ]
  },
  {
   "cell_type": "markdown",
   "metadata": {},
   "source": [
    "### one to one"
   ]
  },
  {
   "cell_type": "code",
   "execution_count": 104,
   "metadata": {},
   "outputs": [
    {
     "name": "stdout",
     "output_type": "stream",
     "text": [
      "Accuracy: 0.7441774953853847\n"
     ]
    }
   ],
   "source": [
    "# decision tree\n",
    "fb_base = DecisionTreeClassifier(criterion = 'entropy', max_depth = 10)\n",
    "fb_ovo_dt = OneVsOneClassifier(estimator = fb_base)\n",
    "\n",
    "param_grid = {'estimator__min_samples_leaf': list(range(5, 21, 5)),\n",
    "              'estimator__max_features': list(range(4, 14,2))}\n",
    "\n",
    "fb_ovo_tree_grid = GridSearchCV(fb_ovo_dt, param_grid, cv = 5)\n",
    "\n",
    "scores = cross_val_score(fb_ovo_tree_grid, X_fb, Y_fb, cv = 5,scoring='accuracy')\n",
    "fb_ovo_tree_grid.fit(X_fb, Y_fb)\n",
    "fb_ovo_dt_acc = scores.mean()\n",
    "print('Accuracy:', fb_ovo_dt_acc)"
   ]
  },
  {
   "cell_type": "code",
   "execution_count": 105,
   "metadata": {},
   "outputs": [],
   "source": [
    "#add to dict\n",
    "fb_en_accuracies['MP_ovo_dt'] = fb_ovo_dt_acc"
   ]
  },
  {
   "cell_type": "markdown",
   "metadata": {},
   "source": [
    "## 6. Stacking\n",
    "This is where we will use both the originally built models and the other ensembles to determine the best stacked ensemble."
   ]
  },
  {
   "cell_type": "markdown",
   "metadata": {},
   "source": [
    "### APPLE WATCH\n",
    "For apple watch, we choose modles with accuracy higher than 35%"
   ]
  },
  {
   "cell_type": "code",
   "execution_count": 106,
   "metadata": {
    "scrolled": true
   },
   "outputs": [
    {
     "name": "stdout",
     "output_type": "stream",
     "text": [
      "Accuracy: 0.35288361627533205\n"
     ]
    }
   ],
   "source": [
    "from sklearn.ensemble import StackingClassifier\n",
    "\n",
    "aw_estimators = [('rf', RandomForestClassifier()),\n",
    "                 ('abc', AdaBoostClassifier(base_estimator = DecisionTreeClassifier(criterion = 'gini', max_depth = 10)))]\n",
    "aw_stacking = StackingClassifier(estimators = aw_estimators, cv = 5)\n",
    "#grid_search = GridSearchCV(aw_estimators,param_grid,cv = 5)\n",
    "aw_stacking.fit(X_aw, Y_aw)\n",
    "scores = cross_val_score(aw_stacking, X_aw, Y_aw, cv = 5,scoring='accuracy')\n",
    "aw_stacking_acc = scores.mean()\n",
    "print('Accuracy:', aw_stacking_acc)\n"
   ]
  },
  {
   "cell_type": "code",
   "execution_count": 107,
   "metadata": {},
   "outputs": [],
   "source": [
    "#add to dict\n",
    "aw_en_accuracies['Stacking'] = aw_stacking_acc"
   ]
  },
  {
   "cell_type": "markdown",
   "metadata": {},
   "source": [
    "### FITBIT\n",
    "For fitbit, we choose modles with accuracy higher than 70%"
   ]
  },
  {
   "cell_type": "code",
   "execution_count": 108,
   "metadata": {},
   "outputs": [
    {
     "name": "stdout",
     "output_type": "stream",
     "text": [
      "Accuracy: 0.7437972952103603\n"
     ]
    }
   ],
   "source": [
    "fb_estimators = [('dt',DecisionTreeClassifier(criterion = 'entropy', max_depth = 20, max_features = 6, min_samples_leaf = 15)),\n",
    "                 ('bag', BaggingClassifier(base_estimator = DecisionTreeClassifier(criterion = 'entropy', max_depth = 10))),\n",
    "                 ('rf', RandomForestClassifier(criterion = 'entropy')),\n",
    "                 ('abc', AdaBoostClassifier(base_estimator = DecisionTreeClassifier(criterion = 'entropy', max_depth = 10)))]\n",
    "\n",
    "fb_stacking = StackingClassifier(estimators = fb_estimators, cv = 5)\n",
    "fb_stacking.fit(X_fb, Y_fb)\n",
    "scores = cross_val_score(fb_stacking, X_fb, Y_fb, cv = 5,scoring='accuracy')\n",
    "fb_stacking_acc = scores.mean()\n",
    "print('Accuracy:', fb_stacking_acc)\n"
   ]
  },
  {
   "cell_type": "code",
   "execution_count": 109,
   "metadata": {},
   "outputs": [],
   "source": [
    "#add to dict\n",
    "fb_en_accuracies['Stacking'] = fb_stacking_acc"
   ]
  },
  {
   "cell_type": "markdown",
   "metadata": {},
   "source": [
    "# Heterogenous"
   ]
  },
  {
   "cell_type": "markdown",
   "metadata": {},
   "source": [
    "This is where we collect all the models with high accuracy, put them together and take a vote of each prediction with a logistic regression."
   ]
  },
  {
   "cell_type": "markdown",
   "metadata": {},
   "source": [
    "## Apple Watch\n",
    "Since in the initial modles, they all have similar accuracy around 0.3, we use the three best models built earlier and build an heterogenous ensemble model"
   ]
  },
  {
   "cell_type": "code",
   "execution_count": 110,
   "metadata": {},
   "outputs": [
    {
     "name": "stdout",
     "output_type": "stream",
     "text": [
      "Accuracy: 0.3069139512457671\n"
     ]
    }
   ],
   "source": [
    "# nb, decision tree，svm\n",
    "from sklearn.ensemble import VotingClassifier\n",
    "\n",
    "aw_nb = GaussianNB()\n",
    "aw_dt = DecisionTreeClassifier(criterion = 'gini', max_depth = 10)\n",
    "aw_svm = SVC(kernel = 'sigmoid')\n",
    "aw_voteclf = VotingClassifier(estimators = [('nb', aw_nb), ('dt', aw_dt), ('svm', aw_svm)], voting='hard')\n",
    "\n",
    "param_grid = {'dt__min_samples_leaf': list(range(5, 21,5)),\n",
    "              'dt__max_features': list(range(4, 14,2)),\n",
    "              'svm__C': np.logspace(-2,1,4)}\n",
    "\n",
    "aw_voteclf_grid = GridSearchCV(aw_voteclf, param_grid, cv = 5)\n",
    "aw_voteclf_scores = cross_val_score(aw_voteclf_grid, X_aw, Y_aw, cv = 5)\n",
    "aw_voteclf_grid.fit(X_aw, Y_aw)\n",
    "aw_voteclf_acc = aw_voteclf_scores.mean()\n",
    "print('Accuracy:', aw_voteclf_acc)"
   ]
  },
  {
   "cell_type": "code",
   "execution_count": 111,
   "metadata": {},
   "outputs": [],
   "source": [
    "#add to dic\n",
    "aw_en_accuracies['Voting'] = aw_voteclf_acc"
   ]
  },
  {
   "cell_type": "markdown",
   "metadata": {},
   "source": [
    "## Fitbit\n",
    "Using all the models built earlier with greater accuracies than 50%, we will build an ensemble model with bagging"
   ]
  },
  {
   "cell_type": "code",
   "execution_count": 112,
   "metadata": {},
   "outputs": [
    {
     "name": "stdout",
     "output_type": "stream",
     "text": [
      "Accuracy: 0.5908148932571463\n"
     ]
    }
   ],
   "source": [
    "# decision trees, neural_net\n",
    "\n",
    "fb_dt = DecisionTreeClassifier(criterion = 'entropy', max_depth = 10)\n",
    "fb_nn = MLPClassifier(activation = 'tanh')\n",
    "fb_voteclf = VotingClassifier(estimators = [('dt', fb_dt), ('nn', fb_nn)], voting='hard')\n",
    "\n",
    "param_grid = {'dt__min_samples_leaf': list(range(5, 21, 5)),\n",
    "              'dt__max_features': list(range(4, 14,2)), \n",
    "              'nn__hidden_layer_sizes': [ (30,), (40,), (50,), (30, 30), (40, 40)]}\n",
    "\n",
    "fb_voteclf_grid = GridSearchCV(fb_voteclf, param_grid, cv = 5)\n",
    "fb_voteclf_scores = cross_val_score(fb_voteclf_grid, X_fb, Y_fb, cv = 5)\n",
    "fb_voteclf_grid.fit(X_fb, Y_fb)\n",
    "fb_voteclf_acc = fb_voteclf_scores.mean()\n",
    "print('Accuracy:', fb_voteclf_acc)\n"
   ]
  },
  {
   "cell_type": "code",
   "execution_count": 113,
   "metadata": {},
   "outputs": [],
   "source": [
    "#add to dic\n",
    "fb_en_accuracies['Voting'] = fb_voteclf_acc"
   ]
  },
  {
   "cell_type": "markdown",
   "metadata": {},
   "source": [
    "## End Comparision of All Ensembles\n",
    "This is where we determine the best of all the ensembles"
   ]
  },
  {
   "cell_type": "markdown",
   "metadata": {},
   "source": [
    "## Apple Watch\n",
    "Looking at the final data, Boosting and stacking has the similar best accuracy around 35%, which is about 5-6% higher than before ensembles."
   ]
  },
  {
   "cell_type": "code",
   "execution_count": 114,
   "metadata": {},
   "outputs": [
    {
     "data": {
      "text/html": [
       "<div>\n",
       "<style scoped>\n",
       "    .dataframe tbody tr th:only-of-type {\n",
       "        vertical-align: middle;\n",
       "    }\n",
       "\n",
       "    .dataframe tbody tr th {\n",
       "        vertical-align: top;\n",
       "    }\n",
       "\n",
       "    .dataframe thead th {\n",
       "        text-align: right;\n",
       "    }\n",
       "</style>\n",
       "<table border=\"1\" class=\"dataframe\">\n",
       "  <thead>\n",
       "    <tr style=\"text-align: right;\">\n",
       "      <th></th>\n",
       "      <th>accuracy</th>\n",
       "    </tr>\n",
       "  </thead>\n",
       "  <tbody>\n",
       "    <tr>\n",
       "      <th>ABC_dt</th>\n",
       "      <td>0.354249</td>\n",
       "    </tr>\n",
       "    <tr>\n",
       "      <th>Stacking</th>\n",
       "      <td>0.352884</td>\n",
       "    </tr>\n",
       "    <tr>\n",
       "      <th>MP_ovo_dt</th>\n",
       "      <td>0.347394</td>\n",
       "    </tr>\n",
       "    <tr>\n",
       "      <th>RF</th>\n",
       "      <td>0.331268</td>\n",
       "    </tr>\n",
       "    <tr>\n",
       "      <th>MP_ovr_dt</th>\n",
       "      <td>0.315949</td>\n",
       "    </tr>\n",
       "    <tr>\n",
       "      <th>Voting</th>\n",
       "      <td>0.306914</td>\n",
       "    </tr>\n",
       "    <tr>\n",
       "      <th>ETC</th>\n",
       "      <td>0.290222</td>\n",
       "    </tr>\n",
       "    <tr>\n",
       "      <th>Bagging_NB</th>\n",
       "      <td>0.285299</td>\n",
       "    </tr>\n",
       "    <tr>\n",
       "      <th>MP_ovr_nb</th>\n",
       "      <td>0.280379</td>\n",
       "    </tr>\n",
       "    <tr>\n",
       "      <th>ABC_nb</th>\n",
       "      <td>0.192826</td>\n",
       "    </tr>\n",
       "  </tbody>\n",
       "</table>\n",
       "</div>"
      ],
      "text/plain": [
       "            accuracy\n",
       "ABC_dt      0.354249\n",
       "Stacking    0.352884\n",
       "MP_ovo_dt   0.347394\n",
       "RF          0.331268\n",
       "MP_ovr_dt   0.315949\n",
       "Voting      0.306914\n",
       "ETC         0.290222\n",
       "Bagging_NB  0.285299\n",
       "MP_ovr_nb   0.280379\n",
       "ABC_nb      0.192826"
      ]
     },
     "execution_count": 114,
     "metadata": {},
     "output_type": "execute_result"
    }
   ],
   "source": [
    "# convert dictionary to dataframe for nicer looking print\n",
    "aw_en_df = pd.DataFrame.from_dict(aw_en_accuracies, orient='index', columns=['accuracy'])\n",
    "aw_en_df.sort_values(by='accuracy', ascending=False, inplace=True)\n",
    "aw_en_df"
   ]
  },
  {
   "cell_type": "markdown",
   "metadata": {},
   "source": [
    "## Fitbit\n",
    "Looking at the final data, Bagging with base estimator Decision tree and random forest has the similar best accuracy around 75%, which is about 2% higher than before ensembles."
   ]
  },
  {
   "cell_type": "code",
   "execution_count": 115,
   "metadata": {},
   "outputs": [
    {
     "data": {
      "text/html": [
       "<div>\n",
       "<style scoped>\n",
       "    .dataframe tbody tr th:only-of-type {\n",
       "        vertical-align: middle;\n",
       "    }\n",
       "\n",
       "    .dataframe tbody tr th {\n",
       "        vertical-align: top;\n",
       "    }\n",
       "\n",
       "    .dataframe thead th {\n",
       "        text-align: right;\n",
       "    }\n",
       "</style>\n",
       "<table border=\"1\" class=\"dataframe\">\n",
       "  <thead>\n",
       "    <tr style=\"text-align: right;\">\n",
       "      <th></th>\n",
       "      <th>accuracy</th>\n",
       "    </tr>\n",
       "  </thead>\n",
       "  <tbody>\n",
       "    <tr>\n",
       "      <th>Bagging_DT</th>\n",
       "      <td>0.757601</td>\n",
       "    </tr>\n",
       "    <tr>\n",
       "      <th>RF</th>\n",
       "      <td>0.753760</td>\n",
       "    </tr>\n",
       "    <tr>\n",
       "      <th>MP_ovo_dt</th>\n",
       "      <td>0.744177</td>\n",
       "    </tr>\n",
       "    <tr>\n",
       "      <th>Stacking</th>\n",
       "      <td>0.743797</td>\n",
       "    </tr>\n",
       "    <tr>\n",
       "      <th>MP_ovr_dt</th>\n",
       "      <td>0.739965</td>\n",
       "    </tr>\n",
       "    <tr>\n",
       "      <th>ABC_dt</th>\n",
       "      <td>0.735751</td>\n",
       "    </tr>\n",
       "    <tr>\n",
       "      <th>Voting</th>\n",
       "      <td>0.590815</td>\n",
       "    </tr>\n",
       "    <tr>\n",
       "      <th>ETC</th>\n",
       "      <td>0.540631</td>\n",
       "    </tr>\n",
       "  </tbody>\n",
       "</table>\n",
       "</div>"
      ],
      "text/plain": [
       "            accuracy\n",
       "Bagging_DT  0.757601\n",
       "RF          0.753760\n",
       "MP_ovo_dt   0.744177\n",
       "Stacking    0.743797\n",
       "MP_ovr_dt   0.739965\n",
       "ABC_dt      0.735751\n",
       "Voting      0.590815\n",
       "ETC         0.540631"
      ]
     },
     "execution_count": 115,
     "metadata": {},
     "output_type": "execute_result"
    }
   ],
   "source": [
    "# convert dictionary to dataframe for nicer looking print\n",
    "fb_en_df = pd.DataFrame.from_dict(fb_en_accuracies, orient='index', columns=['accuracy'])\n",
    "fb_en_df.sort_values(by='accuracy', ascending=False, inplace=True)\n",
    "fb_en_df"
   ]
  },
  {
   "cell_type": "markdown",
   "metadata": {},
   "source": [
    "# Outcome\n",
    "This is where we select the best model from the original models and the ensemble models and then use that model to determine the classes of randomly created records."
   ]
  },
  {
   "cell_type": "markdown",
   "metadata": {},
   "source": [
    "## 1. Best Model\n",
    "Here we will determine the best model by comparing all models created"
   ]
  },
  {
   "cell_type": "code",
   "execution_count": 37,
   "metadata": {},
   "outputs": [
    {
     "name": "stdout",
     "output_type": "stream",
     "text": [
      "The best model to predict results from apple watches is: Decision Tree Boosting.\n",
      "The best model to predict results from fitbit is: Decision Tree Bagging.\n"
     ]
    }
   ],
   "source": [
    "# your code goes here\n",
    "# determine best model of apple watch data\n",
    "if aw_en_df.index[0]=='ABC_dt':\n",
    "    final_model_aw = aw_abc_tree_grid\n",
    "    print (\"The best model to predict results from apple watches is: Decision Tree Boosting.\")\n",
    "elif aw_en_df.index[0]=='Stacking':\n",
    "    final_model_aw = aw_stacking\n",
    "    print (\"The best model to predict results from apple watches is: Stacking.\")\n",
    "elif aw_en_df.index[0]=='MP_ovo_dt':\n",
    "    final_model_aw = aw_ovo_tree_grid\n",
    "    print (\"The best model to predict results from apple watches is: Decision Tree Multipartioning: one to one.\")\n",
    "elif aw_en_df.index[0]=='RF':\n",
    "    final_model_aw = aw_rf_grid\n",
    "    print (\"The best model to predict results from apple watches is: Randomized Forest.\")\n",
    "elif aw_en_df.index[0]=='MP_ovr_dt':\n",
    "    final_model_aw = aw_ovr_tree_grid\n",
    "    print (\"The best model to predict results from apple watches is: Decision Tree Multipartioning: one to rest.\")\n",
    "\n",
    "model_aw = 'finalized_model_AW.sav'\n",
    "pickle.dump(final_model_aw, open(model_aw, 'wb'))\n",
    "\n",
    "# determine best model of fitbit data\n",
    "if fb_en_df.index[0]=='Bagging_DT':\n",
    "    final_model_fb = fb_bc_grid\n",
    "    print (\"The best model to predict results from fitbit is: Decision Tree Bagging.\")\n",
    "elif fb_en_df.index[0]=='RF':\n",
    "    final_model_fb = fb_rf_grid\n",
    "    print (\"The best model to predict results from fitbit is: Randomized Forest.\")\n",
    "elif fb_en_df.index[0]=='MP_ovo_dt':\n",
    "    final_model_fb = fb_ovo_tree_grid\n",
    "    print (\"The best model to predict results from fitbit is: Decision Tree Multipartioning: one to one.\")\n",
    "elif fb_en_df.index[0]=='Stacking':\n",
    "    final_model_fb = fb_stacking\n",
    "    print (\"The best model to predict results from fitbit is: Stacking.\")\n",
    "elif fb_en_df.index[0]=='MP_ovr_dt':\n",
    "    final_model_fb = fb_ovr_tree_grid\n",
    "    print (\"The best model to predict results from fitbit is: Decision Tree Multipartioning: one to rest.\")\n",
    "\n",
    "model_fitbit = 'finalized_model_fitbit.sav'\n",
    "pickle.dump(final_model_fb, open(model_fitbit, 'wb'))"
   ]
  },
  {
   "cell_type": "markdown",
   "metadata": {},
   "source": [
    "## 2. Classify Unknown Data\n",
    "Here we will create new data and see where that data would be classified given our best selected model"
   ]
  },
  {
   "cell_type": "code",
   "execution_count": 89,
   "metadata": {},
   "outputs": [
    {
     "name": "stdout",
     "output_type": "stream",
     "text": [
      "17.4 percentage of the predictions matches\n",
      "Fitbit model predicted 256 people were Lying\n",
      "Fitbit model predicted 636 people were Sitting\n",
      "Fitbit model predicted 16 people were Running 3 METs\n",
      "Fitbit model predicted 4 people were Running 5 METs\n",
      "Fitbit model predicted 79 people were Running 7 METs\n"
     ]
    },
    {
     "data": {
      "image/png": "[encoded data removed]",
      "text/plain": [
       "<Figure size 432x288 with 1 Axes>"
      ]
     },
     "metadata": {},
     "output_type": "display_data"
    },
    {
     "data": {
      "image/png": "[encoded data removed]",
      "text/plain": [
       "<Figure size 432x288 with 1 Axes>"
      ]
     },
     "metadata": {},
     "output_type": "display_data"
    },
    {
     "data": {
      "image/png": "[encoded data removed]",
      "text/plain": [
       "<Figure size 432x288 with 1 Axes>"
      ]
     },
     "metadata": {},
     "output_type": "display_data"
    },
    {
     "data": {
      "image/png": "[encoded data removed]",
      "text/plain": [
       "<Figure size 432x288 with 1 Axes>"
      ]
     },
     "metadata": {},
     "output_type": "display_data"
    },
    {
     "data": {
      "image/png": "[encoded data removed]",
      "text/plain": [
       "<Figure size 432x288 with 1 Axes>"
      ]
     },
     "metadata": {},
     "output_type": "display_data"
    }
   ],
   "source": [
    "# your code goes here\n",
    "loaded_model_fb = pickle.load(open(model_fitbit, 'rb'))\n",
    "loaded_model_aw = pickle.load(open(model_aw, 'rb'))\n",
    "pred_fitbit = []\n",
    "pred_aw = []\n",
    "records = []\n",
    "\n",
    "#for each of the feature except gender, a random integer is generated in the range of 25% and 75% of the values, in case\n",
    "#there are outliers\n",
    "for i in range (1000):\n",
    "    age = random.randint(20,80)\n",
    "    female = random.randint(0,1)\n",
    "    if female == 0:\n",
    "        male = 1\n",
    "    else:\n",
    "        male = 0\n",
    "    height = random.randint(160,180)\n",
    "    weight = random.randint(60,77)\n",
    "    heart_rate = random.randint(76, 96)\n",
    "    resting_heart = random.randint(64,74)\n",
    "    karvonen = random.randint(139,148)\n",
    "    karvonen_minus_hr = karvonen-heart_rate\n",
    "    calories = random.randint(0,21)\n",
    "    steps = random.randint(1,106)\n",
    "    distance = random.randint(0,16)\n",
    "    records.append([age, female, male, height, weight, heart_rate, resting_heart, karvonen, karvonen_minus_hr, calories, steps, distance])\n",
    "\n",
    "for i in records:\n",
    "        pred_fitbit.append(loaded_model_fb.predict([i])[0])\n",
    "        pred_aw.append(loaded_model_aw.predict([i])[0])\n",
    "\n",
    "#make a dataframe to visualize the predicted results\n",
    "final_pred = {'Apple Watch prediction' :pred_aw, 'Fitbit prediction': pred_fitbit}\n",
    "final_pred_pd = pd.DataFrame(final_pred, columns = ['Apple Watch prediction','Fitbit prediction'])\n",
    "\n",
    "#make a list of all activities\n",
    "activity = ['Lying','Sitting','Self Pace Walk','Running 3 METs','Running 5 METs','Running 7 METs']\n",
    "\n",
    "#see the percentages of the predictions that match \n",
    "match = final_pred_pd.mask(final_pred_pd['Fitbit prediction']!=final_pred_pd['Apple Watch prediction'])\n",
    "print(match['Fitbit prediction'].count()*100/final_pred_pd['Fitbit prediction'].count(), 'percentage of the predictions matches')\n",
    "\n",
    "#for every activity that fitbit model predicted, see what is the prediction using apple watch model\n",
    "for i in range (len(activity)):\n",
    "    mask = final_pred_pd.mask(final_pred_pd['Fitbit prediction']!=activity[i])\n",
    "    groups = mask.groupby('Apple Watch prediction')\n",
    "    if mask['Apple Watch prediction'].count()!=0:\n",
    "        print('Fitbit model predicted ' + str(mask['Apple Watch prediction'].count()) + ' people were ' + activity[i])\n",
    "        plt.figure(i)\n",
    "        pie_chart = groups.size().plot(kind='pie', autopct='%1.1f%%', pctdistance=1.2, labeldistance=1.4, startangle=90)\n",
    "        pie_chart.set_ylabel('')\n",
    "        pie_chart.set_xlabel('')\n",
    "        pie_chart.set_title('Apple Watch prediction when Fitbit model predicted as '+ activity[i],pad=30)\n",
    "plt.tight_layout()\n",
    "plt.show()"
   ]
  },
  {
   "cell_type": "markdown",
   "metadata": {},
   "source": [
    "#### Analysis on the prediction results\n",
    "When predicting an activity is lying, both models agreed on the results for more than 50% of times. When predicting every other activity, the model results are not the same for most of the time. Only 17.4 percentage of overall activities predicted is agreed by both models. When Fitbit model predicts an activity, Apple Watch model usually predicts an activity that consumes fewer calories."
   ]
  },
  {
   "cell_type": "markdown",
   "metadata": {},
   "source": [
    "## 3. Summary\n",
    "Here is where we analyze why the model was selected, how the model classified the data, and what does this mean for future predictions\n",
    "\n",
    "The modes were selected because they were the most accurate ones for each device according to our analysis. The difference between accuracy of two devices is large. Data from fitbit can have an accuracy as high as 76 percent, but data from apple watch is only accurate for at most 35 percent of times. \n",
    "\n",
    "For both devices, the decision tree is the best model based on generalization accuracy. In our ensemble analysis, Stacking is a great method for both devices. \n",
    "\n",
    "For apple watch data, our model isn't promsing predicting the activities. If one would use it, Stacking can get it right for 35 percent of times. For Fitbit data, multiple models can predict it right for over 75 percent of times. The best model according to analysis is bagging of decision trees. "
   ]
  },
  {
   "cell_type": "markdown",
   "metadata": {},
   "source": [
    "Daniel Fuller on the Harvard website where we got our data from said he got an accuracy of 82.6% for Apple Watch data and 89.3% for Fitbit data. In comparison, we got an accuracy of 35.4% for Apple Watch data and 75.8% for Fitbit data. There is a difference because we did not use all the columns provided and there might have been data leakage prior to our data cleaning since there were many normalized columns in the dataset. "
   ]
  }
 ],
 "metadata": {
  "kernelspec": {
   "display_name": "Python 3",
   "language": "python",
   "name": "python3"
  },
  "language_info": {
   "codemirror_mode": {
    "name": "ipython",
    "version": 3
   },
   "file_extension": ".py",
   "mimetype": "text/x-python",
   "name": "python",
   "nbconvert_exporter": "python",
   "pygments_lexer": "ipython3",
   "version": "3.7.3"
  }
 },
 "nbformat": 4,
 "nbformat_minor": 2
}
